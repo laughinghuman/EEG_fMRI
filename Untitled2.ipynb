{
 "cells": [
  {
   "cell_type": "code",
   "execution_count": 1,
   "metadata": {},
   "outputs": [
    {
     "name": "stderr",
     "output_type": "stream",
     "text": [
      "/Users/ilamiheev/.local/lib/python3.7/site-packages/nilearn/_utils/cache_mixin.py:232: DeprecationWarning: The 'cachedir' attribute has been deprecated in version 0.12 and will be removed in version 0.14.\n",
      "Use os.path.join(memory.location, 'joblib') attribute instead.\n",
      "  if (memory.cachedir is None and memory_level is not None\n"
     ]
    }
   ],
   "source": [
    "import nibabel as nib\n",
    "import numpy as np\n",
    "import scipy.stats\n",
    "from matplotlib import pyplot as plt\n",
    "import nilearn.image\n",
    "import sklearn.decomposition\n",
    "from sklearn.linear_model import Ridge\n",
    "from fMRI_Regions import atlas\n",
    "from sampler import Sampler\n",
    "from settings import settings\n",
    "import scipy\n",
    "from fMRI_Regions import atlas\n",
    "def get_masked_fMRI(y):\n",
    "    ol = nilearn.image.new_img_like(b, y)\n",
    "    m, labels = atlas(ol)\n",
    "    return m, labels\n",
    "b=nib.load('/Users/ilamiheev/Desktop/fmri /FUNC/sub-36_task-rest_bold.nii')\n",
    "y_train= nib.load('/Users/ilamiheev/Desktop/fmri /FUNC/sub-36_task-rest_bold.nii').get_data()\n",
    "preprocessed_train_y, labels = get_masked_fMRI(y_train)"
   ]
  },
  {
   "cell_type": "code",
   "execution_count": 2,
   "metadata": {},
   "outputs": [
    {
     "data": {
      "text/plain": [
       "array([[ 1.6867281e+01,  1.6369221e+01,  1.6966236e+01, ...,\n",
       "         1.6604290e+01,  1.6519369e+01,  9.7158909e+00],\n",
       "       [ 8.1046748e-01,  9.7811413e-01,  1.5370979e+00, ...,\n",
       "         8.1137311e-01,  6.4317286e-01,  1.5063818e+00],\n",
       "       [-3.9732254e-01, -4.3880469e-01, -2.6434755e-01, ...,\n",
       "        -4.3083522e-01, -4.5256028e-01,  9.4008392e-01],\n",
       "       ...,\n",
       "       [ 1.4992838e-01,  3.7692776e-01, -8.0699787e-02, ...,\n",
       "         3.4179983e-01,  5.3994685e-01,  5.8651316e-01],\n",
       "       [ 8.9529894e-02,  2.9921475e-01,  1.2674953e-01, ...,\n",
       "         3.3898431e-01,  1.1825558e-01,  1.9601113e-01],\n",
       "       [-3.8094930e-02,  2.4062826e-01,  8.2679081e-04, ...,\n",
       "         4.4014481e-01,  6.9078261e-01,  5.7197797e-01]], dtype=float32)"
      ]
     },
     "execution_count": 2,
     "metadata": {},
     "output_type": "execute_result"
    }
   ],
   "source": [
    "preprocessed_train_y\n"
   ]
  },
  {
   "cell_type": "code",
   "execution_count": null,
   "metadata": {},
   "outputs": [],
   "source": []
  }
 ],
 "metadata": {
  "kernelspec": {
   "display_name": "Python 3",
   "language": "python",
   "name": "python3"
  },
  "language_info": {
   "codemirror_mode": {
    "name": "ipython",
    "version": 3
   },
   "file_extension": ".py",
   "mimetype": "text/x-python",
   "name": "python",
   "nbconvert_exporter": "python",
   "pygments_lexer": "ipython3",
   "version": "3.7.1"
  }
 },
 "nbformat": 4,
 "nbformat_minor": 2
}
