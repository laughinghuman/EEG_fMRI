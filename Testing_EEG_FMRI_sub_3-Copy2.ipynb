{
 "cells": [
  {
   "cell_type": "code",
   "execution_count": 27,
   "metadata": {},
   "outputs": [
    {
     "name": "stdout",
     "output_type": "stream",
     "text": [
      "Extracting EDF parameters from /Users/ilamiheev/Downloads/eeg_fmri_data/eeg_off/eeg_off_1.edf...\n",
      "EDF file detected\n",
      "Setting channel info structure...\n",
      "Creating raw.info structure...\n"
     ]
    }
   ],
   "source": [
    "import nibabel as nib\n",
    "import numpy as np\n",
    "import scipy.stats\n",
    "from matplotlib import pyplot as plt\n",
    "import nilearn.image\n",
    "import sklearn.decomposition\n",
    "from sklearn.linear_model import Ridge\n",
    "#from fMRI_Regions import atlas\n",
    "from fMRI_Regions import atlas_masker\n",
    "import sklearn.metrics as sm\n",
    "from sampler import Sampler\n",
    "from settings import settings\n",
    "from scipy import signal\n",
    "import scipy\n",
    "import time\n",
    "import mne\n",
    "import glob\n",
    "sampler = Sampler('/Users/ilamiheev/Desktop/data/')\n",
    "from scipy import signal\n",
    "masker, labels = atlas_masker('sub')\n",
    "eeg = mne.io.read_raw_edf('/Users/ilamiheev/Downloads/eeg_fmri_data/eeg_off/eeg_off_1.edf',exclude=['EOG', 'ECG','CW1', 'CW2','CW3','CW4','CW5','CW6','Status'])\n",
    "data = eeg.get_data()\n",
    "channels=eeg.ch_names\n",
    "eeg1=data\n",
    "f, t, ft = signal.stft(eeg1[:,0:15000],fs=1000, nperseg=400)\n",
    "ix_chs = f[2:20] \n",
    "num_frames = 143\n",
    "num_train_frames = 100\n",
    "num_test_frames = 20\n",
    "nmse_scores_off=[]\n",
    "pearson_scores_off=[]\n",
    "r2_scores_off=[]\n",
    "Coefs=[]\n",
    "index_dif=[]\n",
    "eeg_set_off_paths=glob.glob(\"/Users/ilamiheev/Downloads/eeg_fmri_data/eeg_set_off/*.set\")\n",
    "eeg_edf_off_paths=glob.glob(\"/Users/ilamiheev/Downloads/eeg_fmri_data/eeg_off/*.edf\")\n",
    "fmri_off_paths=glob.glob(\"/Users/ilamiheev/Downloads/eeg_fmri_data/fmri_off/*.nii\")\n",
    "patient_list=[1,2,3,4]\n",
    "for i in range (4):\n",
    "    patient_list[i]=0\n",
    "    \n",
    "          "
   ]
  },
  {
   "cell_type": "code",
   "execution_count": 28,
   "metadata": {},
   "outputs": [
    {
     "data": {
      "text/plain": [
       "[0, 0, 0, 0]"
      ]
     },
     "execution_count": 28,
     "metadata": {},
     "output_type": "execute_result"
    }
   ],
   "source": [
    "patient_list"
   ]
  },
  {
   "cell_type": "code",
   "execution_count": 23,
   "metadata": {},
   "outputs": [
    {
     "data": {
      "text/plain": [
       "['/Users/ilamiheev/Downloads/eeg_fmri_data/fmri_off/fmri_off_4.nii',\n",
       " '/Users/ilamiheev/Downloads/eeg_fmri_data/fmri_off/fmri_off_3.nii',\n",
       " '/Users/ilamiheev/Downloads/eeg_fmri_data/fmri_off/fmri_off_2.nii',\n",
       " '/Users/ilamiheev/Downloads/eeg_fmri_data/fmri_off/fmri_off_1.nii']"
      ]
     },
     "execution_count": 23,
     "metadata": {},
     "output_type": "execute_result"
    }
   ],
   "source": [
    "fmri_off_paths"
   ]
  },
  {
   "cell_type": "code",
   "execution_count": null,
   "metadata": {},
   "outputs": [],
   "source": [
    "x_train1, y_train, x_fl_train = sampler.create_one_man_dataset(patient=current_patient, start_time=train_start,\n",
    "                                                                  end_time=train_end, delay=delay,fmri_end=fmri_end)"
   ]
  },
  {
   "cell_type": "code",
   "execution_count": null,
   "metadata": {},
   "outputs": [],
   "source": [
    "x_test1, y_test, x_fl_test =  sampler.create_one_man_dataset(patient=current_patient, start_time=test_start,\n",
    "                                                               end_time=test_end, delay=delay, fmri_end=fmri_end)"
   ]
  },
  {
   "cell_type": "code",
   "execution_count": null,
   "metadata": {},
   "outputs": [],
   "source": []
  },
  {
   "cell_type": "code",
   "execution_count": null,
   "metadata": {},
   "outputs": [],
   "source": [
    "np.shape(y_train)"
   ]
  },
  {
   "cell_type": "code",
   "execution_count": null,
   "metadata": {},
   "outputs": [],
   "source": [
    "from scipy import signal\n",
    "import mne\n",
    "masker, labels = atlas_masker('sub')\n",
    "eeg = mne.io.read_raw_edf('/Users/ilamiheev/Downloads/edf_1.edf',exclude=['EOG', 'ECG','CW1', 'CW2','CW3','CW4','CW5','CW6','Status'])\n",
    "data = eeg.get_data()\n",
    "channels=eeg.ch_names\n",
    "eeg1=data\n",
    "f, t, ft = signal.stft(eeg1[:,0:15000],fs=1000, nperseg=400)\n",
    "ix_chs = f[2:20] "
   ]
  },
  {
   "cell_type": "code",
   "execution_count": null,
   "metadata": {},
   "outputs": [],
   "source": [
    "alphas = np.logspace(-3, 3, 7)\n",
    "#coefs = np.zeros((zone, np.shape(x_train)[2],np.shape(x_train)[3]))\n",
    "scores= np.zeros(((len(labels)-1),np.shape(x_test1)[1],len(alphas)))\n",
    "scoresr2 = np.zeros(((len(labels)-1),np.shape(x_test1)[1],len(alphas)))\n",
    "scoresmse = np.zeros(((len(labels)-1),np.shape(x_test1)[1],len(alphas)))                 \n",
    "#models = np.zeros(((len(labels)-1),np.shape(x_test)[1],len(alphas)),dtype=('Ridge'))\n",
    "mm=[]\n",
    "bbb=[]\n",
    "x_train=x_train1*1e+4\n",
    "x_test=x_test1*1e+4\n",
    "for zone in range(len(labels)-1):\n",
    "    s=[]\n",
    "    jj=[]\n",
    "    for a in range((np.shape(x_test)[1])):\n",
    "        t=[]\n",
    "        nn=[]\n",
    "        for ii, alpha in enumerate(alphas):   \n",
    "            ridgereg = Ridge(alpha, normalize=False)\n",
    "            ridgereg.fit(x_train[:,a,:,:].reshape(np.shape(x_train)[0],-1), y_train[:,zone]) \n",
    "            predicted_y_test = ridgereg.predict(x_test[:,a,:,:].reshape(np.shape(x_test)[0],-1))\n",
    "            scores[zone,a,ii] = scipy.stats.pearsonr(y_test[:, zone], predicted_y_test)[0]\n",
    "            scoresr2[zone,a,ii] = sklearn.metrics.r2_score(y_test[:, zone], predicted_y_test)\n",
    "            scoresmse[zone,a,ii] = sklearn.metrics.mean_squared_error(y_test[:, zone], predicted_y_test)       \n",
    "            t.append(ridgereg)\n",
    "            nn.append(predicted_y_test)\n",
    "        s.append(t)\n",
    "        jj.append(nn)\n",
    "    mm.append(s)\n",
    "    bbb.append(jj)\n",
    "mmm=np.array(mm)\n",
    "bbb=np.array(bbb)\n",
    "\n"
   ]
  },
  {
   "cell_type": "code",
   "execution_count": null,
   "metadata": {},
   "outputs": [],
   "source": [
    "coefs=[]\n",
    "scores_max1=[]\n",
    "scores_max2=[]\n",
    "scores_max3=[]\n",
    "mmm=np.array(mmm)\n",
    "\n",
    "#mmm1= np.delete(mmm, (0,1,28,29,60), axis=1)\n",
    "#scoresmse1=np.delete(scoresmse, (0,1,28,29,60), axis=1)\n",
    "#mmm2= np.delete(mmm1, (28), axis=1)\n",
    "#scoresmse2=np.delete(scoresmse1, (28), axis=1)\n",
    "#scores1=np.delete(scores, (0,1,28,29,60), axis=1)\n",
    "R=[]\n",
    "for zone in range(len(labels)-1):\n",
    "    #sigm=[]\n",
    "    #kkk=[]\n",
    "    #for i in range(len(channels)):\n",
    "    ind = np.unravel_index((np.argmin((scoresmse[zone,...]))), scoresr2[zone,...].shape)\n",
    "    #ind=np.argmax(np.abs(scores[zone,i,...]))\n",
    "    #kkk.append(mmm[zone,i,ind].coef_)\n",
    "    coefs.append(mmm[zone,ind[0], ind[1]].coef_)\n",
    "    #sigm.append(scores[zone,i,ind])\n",
    "    scores_max1.append(scores[zone,ind[0],ind[1]])\n",
    "    scores_max2.append(scoresmse[zone,ind[0],ind[1]])\n",
    "    scores_max3.append(scoresr2[zone,ind[0],ind[1]])\n",
    "    R.append(ind)\n",
    "    #scores_max.append(sigm)\n",
    "    #coefs.append(kkk)\n",
    "coefs=np.array(coefs)\n",
    "#scores_max=np.array(scores_max)"
   ]
  },
  {
   "cell_type": "code",
   "execution_count": null,
   "metadata": {},
   "outputs": [],
   "source": [
    "scores_max1"
   ]
  },
  {
   "cell_type": "code",
   "execution_count": null,
   "metadata": {},
   "outputs": [],
   "source": [
    "scores_max2"
   ]
  },
  {
   "cell_type": "code",
   "execution_count": null,
   "metadata": {},
   "outputs": [],
   "source": [
    "scores_max3"
   ]
  },
  {
   "cell_type": "code",
   "execution_count": null,
   "metadata": {},
   "outputs": [],
   "source": [
    "MM=[0.456,0.434,0.438,0.420,0.428,0.224,0.218,0.220,0.222,0.195,0.200,0.201,0.207,0.203,0.206]\n",
    "font = {'family': 'serif',\n",
    "        'color':  'darkred',\n",
    "        'weight': 'normal',\n",
    "        'size': 16,\n",
    "        }\n",
    "fig, ax = plt.subplots(figsize=(10, 8))\n",
    "plt.plot(np.linspace(-15, 0, num=15),MM,'ro')\n",
    "plt.text(-13.5, 0.4, 'p-value<0.05',fontdict=font)\n",
    "plt.text(-5, 0.25, 'p-value>0.05',fontdict=font)\n",
    "plt.title(labels[20], fontdict=font)\n",
    "plt.xlabel(xlabel = 'Delay of forward signal (s)',fontdict=font)\n",
    "plt.ylabel(ylabel='R',fontdict=font)"
   ]
  },
  {
   "cell_type": "code",
   "execution_count": null,
   "metadata": {},
   "outputs": [],
   "source": [
    "mne.viz.plot_topomap(data, pos=eeg.info, vmin=None, vmax=None, cmap=None, sensors=True, res=64, names=channels, show_names=True)"
   ]
  },
  {
   "cell_type": "code",
   "execution_count": null,
   "metadata": {},
   "outputs": [],
   "source": [
    "channels"
   ]
  },
  {
   "cell_type": "code",
   "execution_count": null,
   "metadata": {},
   "outputs": [],
   "source": [
    "def norm(data):\n",
    "    return (data)/(max(data)-min(data))\n",
    "for i in range(len(labels)-1):\n",
    "    lkl=bbb[i,R[i][0],R[i][1]]\n",
    "    plt.plot(y_test[:,i])\n",
    "    plt.plot(lkl)\n",
    "    plt.legend(('Ground truth','Prediction'),\n",
    "    loc='upper right')\n",
    "    plt.title(labels[i+1])\n",
    "    plt.show()"
   ]
  },
  {
   "cell_type": "code",
   "execution_count": null,
   "metadata": {},
   "outputs": [],
   "source": [
    "labels[11]"
   ]
  },
  {
   "cell_type": "code",
   "execution_count": null,
   "metadata": {},
   "outputs": [],
   "source": []
  },
  {
   "cell_type": "code",
   "execution_count": null,
   "metadata": {},
   "outputs": [],
   "source": [
    "for i in range(len(labels)-1):\n",
    "    coefs=np.array(coefs)\n",
    "    mean_coefs=coefs[i,:]\n",
    "    max_coef = mean_coefs.max()\n",
    "    mean_coefs=mean_coefs.reshape(np.shape(x_test)[2],np.shape(x_test)[3])\n",
    "    fig, ax = plt.subplots(figsize=(10, 8))\n",
    "    ax.pcolormesh(np.linspace(-15,0,60),  ix_chs, mean_coefs, cmap='RdBu_r',\n",
    "                  vmin=-max_coef, vmax=max_coef, shading='gouraud')\n",
    "    #ax.axvline(time_plot, ls='--', color='k', lw=2)\n",
    "    ax.set(xlabel='Delay (s)', ylabel='Freq_bands', title=labels[i+1])\n",
    "    #plt.setp(ax.get_xticklabels(), rotation=45)\n",
    "    mne.viz.tight_layout()"
   ]
  },
  {
   "cell_type": "code",
   "execution_count": null,
   "metadata": {},
   "outputs": [],
   "source": [
    "alphas = np.logspace(-3, 3, 7)\n",
    "#coefs = np.zeros((zone, np.shape(x_train)[2],np.shape(x_train)[3]))\n",
    "scoresfl= np.zeros(((len(labels)-1),np.shape(x_test)[1],len(alphas)))\n",
    "scoresr2fl = np.zeros(((len(labels)-1),np.shape(x_test)[1],len(alphas)))\n",
    "scoresmsefl = np.zeros(((len(labels)-1),np.shape(x_test)[1],len(alphas)))                 \n",
    "#models = np.zeros(((len(labels)-1),np.shape(x_test)[1],len(alphas)),dtype=('Ridge'))\n",
    "mmfl=[]\n",
    "bbbfl=[]\n",
    "for zone in range(len(labels)-1):\n",
    "    s=[]\n",
    "    jj=[]\n",
    "    for a in range((np.shape(x_test)[1])):\n",
    "        t=[]\n",
    "        nn=[]\n",
    "        for ii, alpha in enumerate(alphas):   \n",
    "            ridgereg = Ridge(alpha, normalize=True)\n",
    "            ridgereg.fit(x_train[:,a,:,:].reshape(np.shape(x_fl_train)[0],-1), y_train[:,zone])\n",
    "            predicted_y_testfl = ridgereg.predict(x_fl_test[:,a,:,:].reshape(np.shape(x_fl_test)[0],-1))\n",
    "            scoresfl[zone,a,ii] = scipy.stats.pearsonr(y_test[:, zone], predicted_y_testfl)[0]\n",
    "            scoresr2fl[zone,a,ii] = sklearn.metrics.r2_score(y_test[:, zone], predicted_y_testfl)\n",
    "            scoresmsefl[zone,a,ii] = sklearn.metrics.mean_squared_error(y_test[:, zone], predicted_y_testfl)       \n",
    "            t.append(ridgereg)\n",
    "            nn.append(predicted_y_testfl)\n",
    "            #models[zone,a,ii] = ridgereg\n",
    "        s.append(t)\n",
    "        jj.append(nn)\n",
    "    mmfl.append(s)\n",
    "    bbbfl.append(jj)\n",
    "mmmfl=np.array(mmfl)\n",
    "bbbfl=np.array(bbbfl)"
   ]
  },
  {
   "cell_type": "code",
   "execution_count": null,
   "metadata": {},
   "outputs": [],
   "source": [
    "coefsfl=[]\n",
    "scores_maxfl=[]\n",
    "mmmfl=np.array(mmmfl)\n",
    "Rfl=[]\n",
    "for zone in range(len(labels)-1):\n",
    "    ind = np.unravel_index((np.argmin(scoresmsefl[zone,...])), scores[zone,...].shape)\n",
    "    coefsfl.append(mmmfl[zone, ind[0], ind[1]].coef_)\n",
    "    scores_maxfl.append(scoresmsefl[zone,ind[0],ind[1]])\n",
    "    Rfl.append(ind)\n",
    "coefsfl=np.array(coefs)\n",
    "mean_coefsfl=coefsfl[1,:]\n",
    "max_coeffl = mean_coefsfl.max()"
   ]
  },
  {
   "cell_type": "code",
   "execution_count": null,
   "metadata": {},
   "outputs": [],
   "source": [
    "scores_maxfl"
   ]
  },
  {
   "cell_type": "code",
   "execution_count": null,
   "metadata": {},
   "outputs": [],
   "source": [
    "pp=[]\n",
    "for i in range(len(labels)-1):\n",
    "      pp.append(scores_maxfl[i]-scores_max[i])"
   ]
  },
  {
   "cell_type": "code",
   "execution_count": null,
   "metadata": {},
   "outputs": [],
   "source": [
    "pp"
   ]
  },
  {
   "cell_type": "code",
   "execution_count": null,
   "metadata": {},
   "outputs": [],
   "source": [
    "for i in range(len(labels)-1):\n",
    "    lklfl=bbbfl[i,Rfl[i][0],Rfl[i][1]]\n",
    "    plt.plot(y_test[:,i])\n",
    "    plt.plot(lklfl)\n",
    "    plt.legend(('Ground truth','Prediction'),\n",
    "    loc='upper right')\n",
    "    plt.title(labels[i+1])\n",
    "    plt.show()"
   ]
  },
  {
   "cell_type": "code",
   "execution_count": null,
   "metadata": {},
   "outputs": [],
   "source": [
    "x_fl_train_new_list=[]\n",
    "x_fl_test_new_list=[]\n",
    "x_fl_train_1=np.roll(x_fl_train,100,axis=0)\n",
    "x_fl_test_1=np.roll(x_fl_test,100,axis=0)\n",
    "for zeta in range(100):\n",
    "    x_train_fl_new=np.roll(x_fl_train_1,zeta*10,axis=0)\n",
    "    x_test_fl_new=np.roll(x_fl_test_1,zeta*10,axis=0)\n",
    "    x_fl_train_new_list.append(x_train_fl_new)\n",
    "    x_fl_test_new_list.append(x_test_fl_new)\n",
    "x_fl_train_new_list=np.array(x_fl_train_new_list)\n",
    "x_fl_test_new_list=np.array(x_fl_test_new_list)\n",
    "mmm=[]\n",
    "for zeta1 in range(100):\n",
    "    mmm1=[]\n",
    "    for zone in range(len(labels)-1):\n",
    "        mm=[]\n",
    "        for a in range((np.shape(x_fl_test)[1])):\n",
    "            s=[]\n",
    "            for b in range((np.shape(x_fl_test)[3])):\n",
    "                t=[]\n",
    "                for ii, alpha in enumeralte(alphas):   \n",
    "                    ridgereg = Ridge(alpha, normalize=True)\n",
    "                    ridgereg.fit(x_fl_test_new_list[:,a,:,b], y_fl_train[:,zone])\n",
    "                    predicted_y_fl_test = ridgereg.predict(x_fl_test[:,a,:,b])\n",
    "                    scores[zone,a,b,ii] = scipy.stats.pearsonr(y_test[:, zone], predicted_y_test)[0]\n",
    "                    t.append(ridgereg)\n",
    "                #models[zone,a,ii] = ridgereg\n",
    "                s.append(t)\n",
    "            mm.append(s)\n",
    "        mmm.append(mmm1)\n",
    "mmm=np.array(mmm)\n",
    "\n",
    "    "
   ]
  }
 ],
 "metadata": {
  "kernelspec": {
   "display_name": "Python 3",
   "language": "python",
   "name": "python3"
  },
  "language_info": {
   "codemirror_mode": {
    "name": "ipython",
    "version": 3
   },
   "file_extension": ".py",
   "mimetype": "text/x-python",
   "name": "python",
   "nbconvert_exporter": "python",
   "pygments_lexer": "ipython3",
   "version": "3.7.1"
  }
 },
 "nbformat": 4,
 "nbformat_minor": 2
}
