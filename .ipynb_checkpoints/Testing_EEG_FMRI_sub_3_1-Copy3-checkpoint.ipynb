{
 "cells": [
  {
   "cell_type": "code",
   "execution_count": null,
   "metadata": {},
   "outputs": [],
   "source": [
    "import nibabel as nib\n",
    "import numpy as np\n",
    "import scipy.stats\n",
    "from matplotlib import pyplot as plt\n",
    "import nilearn.image\n",
    "import sklearn.decomposition\n",
    "from sklearn.linear_model import Ridge\n",
    "#from fMRI_Regions import atlas\n",
    "from fMRI_Regions import atlas_masker\n",
    "import sklearn.metrics as sm\n",
    "from sampler1 import Sampler\n",
    "from settings import settings\n",
    "from scipy import signal\n",
    "import scipy\n",
    "import time\n",
    "import mne\n",
    "import glob\n",
    "sampler = Sampler('/Users/ilamiheev/Desktop/data/')\n",
    "from scipy import signal\n",
    "masker, labels = atlas_masker('sub')\n",
    "path_new_set='/Users/ilamiheev/Downloads/coredf.set'\n",
    "path_new='/Users/ilamiheev/Downloads/corrr.edf'\n",
    "eeg = mne.io.read_raw_edf('/Users/ilamiheev/Downloads/eeg_fmri_data/eeg_off/eeg_off_1.edf',exclude=['EOG', 'ECG','CW1', 'CW2','CW3','CW4','CW5','CW6','Status'])\n",
    "#eeg = mne.io.read_raw_edf(path_new,exclude=['EOG', 'ECG','CW1', 'CW2','CW3','CW4','CW5','CW6','Status'])\n",
    "data = eeg.get_data()\n",
    "channels=eeg.ch_names\n",
    "eeg1=data\n",
    "f, t, ft = signal.stft(eeg1[:,0:2000],fs=1000, nperseg=400)\n",
    "ix_chs = f[2:19] \n",
    "num_frames = 140\n",
    "num_train_frames = 95\n",
    "num_test_frames = 20\n",
    "nmse_scores_off=[]\n",
    "pearson_scores_off=[]\n",
    "r2_scores_off=[]\n",
    "#sampler_eeg=\n",
    "Coefs=[]\n",
    "index_dif=[]\n",
    "eeg_set_off_paths=glob.glob(\"/Users/ilamiheev/Downloads/eeg_fmri_data/eeg_set_off/*.set\")\n",
    "eeg_edf_off_paths=glob.glob(\"/Users/ilamiheev/Downloads/eeg_fmri_data/eeg_off/*.edf\")\n",
    "fmri_off_paths=glob.glob(\"/Users/ilamiheev/Downloads/eeg_fmri_data/fmri_off/*.nii\")\n",
    "forw_delay=0\n",
    "patient_list=[1,2,3,4]\n",
    "#find min number of volumes in all dataset and use it as end in interp1d\n",
    "#plot the components of channels on topomap sculp\n",
    "        #sto=patient_list[tau]\n",
    "bb=mne.io.read_raw_eeglab('/Users/ilamiheev/Downloads/eeg_fmri_data/eeg_set_off/eeg_set_1.set')\n",
    "#bb=mne.io.read_raw_eeglab(path_new_set)\n",
    "k=mne.events_from_annotations(bb)\n",
    "eeg_path='/Users/ilamiheev/Downloads/eeg_fmri_data/eeg_off/eeg_off_1.edf'\n",
    "#eeg_path=path_new\n",
    "fmri_path='/Users/ilamiheev/Downloads/eeg_fmri_data/fmri_off/fmri_off_1.nii'\n",
    "#fmri_path='/Users/ilamiheev/Downloads/eeg_fmri_data/CWL_Data/mri/epi_normalized/rwatrio1_eoec_in-scan_hpump-on.nii'\n",
    "#another function for finding delay.\n",
    "jj=k[1]['mri']\n",
    "a,b=np.where(k[0]==jj)\n",
    "delay=k[0][a[0],0]\n",
    "fmri_end=k[0][a[-1],0]\n",
    "print(delay)\n",
    "print(fmri_end)\n",
    "delayf=settings.frame_creation_time * 5 + delay\n",
    "train_start = delayf\n",
    "train_end = settings.frame_creation_time * (num_train_frames)+delay\n",
    "test_start = settings.frame_creation_time * (num_frames - num_test_frames)+ delay\n",
    "test_end = settings.frame_creation_time * (num_frames)+ delay\n",
    "current_patient = 35\n",
    "random_state = 42\n",
    "x_train1, y_train, x_fl_train = sampler.create_one_man_dataset(patient=current_patient, start_time=train_start,\n",
    "                                                          end_time=train_end, delay=delay,fmri_end=fmri_end,eeg_path=eeg_path,fmri_path=fmri_path, forw_delay=forw_delay)\n",
    "x_test1, y_test, x_fl_test =  sampler.create_one_man_dataset(patient=current_patient, start_time=test_start,\n",
    "                                                       end_time=test_end, delay=delay, fmri_end=fmri_end,eeg_path=eeg_path,fmri_path=fmri_path, forw_delay=forw_delay)\n",
    "alphas = np.logspace(-3, 3, 7)\n",
    "#coefs = np.zeros((zone, np.shape(x_train)[2],np.shape(x_train)[3]))\n",
    "scores= np.zeros(((len(labels)-1),np.shape(x_test1)[1],len(alphas)))\n",
    "scoresr2 = np.zeros(((len(labels)-1),np.shape(x_test1)[1],len(alphas)))\n",
    "scoresmse = np.zeros(((len(labels)-1),np.shape(x_test1)[1],len(alphas)))                 \n",
    "#models = np.zeros(((len(labels)-1),np.shape(x_test)[1],len(alphas)),dtype=('Ridge'))\n",
    "mm=[]\n",
    "bbb=[]\n",
    "x_train=x_train1*1e+4\n",
    "x_test=x_test1*1e+4\n",
    "for zone in range(len(labels)-1):\n",
    "    s=[]\n",
    "    jj=[]\n",
    "    for a in range((np.shape(x_test)[1])):\n",
    "        t=[]\n",
    "        nn=[]\n",
    "        for ii, alpha in enumerate(alphas):   \n",
    "            ridgereg = Ridge(alpha, normalize=False)\n",
    "            ridgereg.fit(x_train[:,a,:,:].reshape(np.shape(x_train)[0],-1), y_train[:,zone]) \n",
    "            predicted_y_test = ridgereg.predict(x_test[:,a,:,:].reshape(np.shape(x_test)[0],-1))\n",
    "            scores[zone,a,ii] = scipy.stats.pearsonr(y_test[:, zone], predicted_y_test)[0]\n",
    "            scoresr2[zone,a,ii] = sklearn.metrics.r2_score(y_test[:, zone], predicted_y_test)\n",
    "            scoresmse[zone,a,ii] = sklearn.metrics.mean_squared_error(y_test[:, zone], predicted_y_test)       \n",
    "            t.append(ridgereg)\n",
    "            nn.append(predicted_y_test)\n",
    "        s.append(t)\n",
    "        jj.append(nn)\n",
    "    mm.append(s)\n",
    "    bbb.append(jj)\n",
    "mmm=np.array(mm)\n",
    "bbb=np.array(bbb)\n",
    "coefs=[]\n",
    "scores_max1=[]\n",
    "scores_max2=[]\n",
    "scores_max3=[]\n",
    "mmm=np.array(mmm)\n",
    "R=[]\n",
    "for zone in range(len(labels)-1):\n",
    "    #sigm=[]\n",
    "    #kkk=[]\n",
    "    #for i in range(len(channels)):\n",
    "    ind = np.unravel_index((np.argmin((scoresmse[zone,...]))), scoresr2[zone,...].shape)\n",
    "    #ind=np.argmax(np.abs(scores[zone,i,...]))\n",
    "    #kkk.append(mmm[zone,i,ind].coef_)\n",
    "    coefs.append(mmm[zone,ind[0], ind[1]].coef_)\n",
    "    #sigm.append(scores[zone,i,ind])\n",
    "    scores_max1.append(scores[zone,ind[0],ind[1]])\n",
    "    scores_max2.append(scoresmse[zone,ind[0],ind[1]])\n",
    "    scores_max3.append(scoresr2[zone,ind[0],ind[1]])\n",
    "    R.append(ind)\n",
    "    #scores_max.append(sigm)\n",
    "    #coefs.append(kkk)\n",
    "coefs=np.array(coefs)\n",
    "nmse_scores_off.append(scores_max2)\n",
    "pearson_scores_off.append(scores_max1)\n",
    "r2_scores_off.append(scores_max3)\n",
    "Coefs.append(coefs)\n",
    "index_dif.append(R)\n",
    "#scores_max=np.array(scores_max)      "
   ]
  },
  {
   "cell_type": "code",
   "execution_count": null,
   "metadata": {},
   "outputs": [],
   "source": [
    "np.shape(x_train)"
   ]
  },
  {
   "cell_type": "code",
   "execution_count": null,
   "metadata": {},
   "outputs": [],
   "source": [
    "pearson_scores_off"
   ]
  },
  {
   "cell_type": "code",
   "execution_count": null,
   "metadata": {},
   "outputs": [],
   "source": [
    "labels"
   ]
  },
  {
   "cell_type": "code",
   "execution_count": null,
   "metadata": {},
   "outputs": [],
   "source": [
    "montage = mne.channels.read_montage('standard_1020')\n",
    "print(montage)\n",
    "eeg.set_montage(montage, set_dig=True)\n",
    "for i in range(len(labels)-1):\n",
    "    mne.viz.plot_topomap(scoresmse[i,:,R[i][1]],vmin=min(scoresmse[i,:,R[i][1]])/2,vmax=max(scoresmse[i,:,R[i][1]]),cmap='RdBu_r', pos=eeg.info, names=channels, show_names=True)\n",
    "    plt.show()"
   ]
  },
  {
   "cell_type": "code",
   "execution_count": null,
   "metadata": {},
   "outputs": [],
   "source": [
    "import sklearn.preprocessing as prepro"
   ]
  },
  {
   "cell_type": "code",
   "execution_count": null,
   "metadata": {},
   "outputs": [],
   "source": [
    "for s in range(len(labels)-1):\n",
    "    coefs=np.array(coefs)\n",
    "    mean_coefs=coefs[s,:]\n",
    "    ix_chs = f[2:19] \n",
    "    mean_coefs=mean_coefs.reshape(np.shape(x_test)[2],np.shape(x_test)[3])\n",
    "    #mean_coefs=prepro.normalize(mean_coefs)\n",
    "    #max_coef = mean_coefs.max()\n",
    "    vect=[]\n",
    "    for i in range(np.shape(x_train)[0]):\n",
    "        S1=x_train[i,R[s][0],...].reshape(-1)\n",
    "        vect.append(S1)\n",
    "    vect=(np.array(vect)).T\n",
    "    vect2=[]\n",
    "    for tao in range(np.shape(x_train)[0]):\n",
    "        S2=np.dot(mean_coefs.reshape(-1,1).T,vect[:,tao])\n",
    "        vect2.append(S2)\n",
    "    vect2=(np.array(vect2)).T\n",
    "    #Fin=np.cov(vect,vect2)\n",
    "    Final=[]\n",
    "    for tim in range(np.shape(vect)[0]):\n",
    "        Final.append(np.cov(vect[tim,:],vect2)[0,1])\n",
    "    Final=np.array(Final)\n",
    "    Final=Final.reshape(np.shape(x_test)[2],np.shape(x_test)[3])\n",
    "    #Fin=Fin.reshape(np.shape(x_test)[2],np.shape(x_test)[3])\n",
    "    #Sn=np.cov(vect)\n",
    "    #Sm=np.cov(vect2)\n",
    "    #S=np.cov(np.dot(x_train[],x_train[].T)\n",
    "    #Fin1=np.dot(Sn,mean_coefs.reshape(-1))\n",
    "    #Fin2=np.dot(Fin1,np.linalg.inv(Sm))\n",
    "    #Fin2=Fin2.reshape(np.shape(x_test)[2],np.shape(x_test)[3])\n",
    "    #np.cov(np.dot)\n",
    "    #re=np.dot(mean_coefs.T, x_train[1,2,...])\n",
    "    fig, ax = plt.subplots(figsize=(10, 8))\n",
    "    pll=ax.pcolormesh(np.linspace(-16.384,0,60),  ix_chs, Final, cmap='RdBu_r', shading='gouraud')\n",
    "    #ax.axvline(time_plot, ls='--', color='k', lw=2)\n",
    "    ax.set(xlabel='Delay (s)', ylabel='Freq_bands', title=labels[s+1])\n",
    "    fig.colorbar(pll)\n",
    "    #plt.setp(ax.get_xticklabels(), rotation=45)\n",
    "    mne.viz.tight_layout()"
   ]
  },
  {
   "cell_type": "code",
   "execution_count": null,
   "metadata": {},
   "outputs": [],
   "source": []
  },
  {
   "cell_type": "code",
   "execution_count": null,
   "metadata": {},
   "outputs": [],
   "source": [
    "np.shape(Final)"
   ]
  },
  {
   "cell_type": "code",
   "execution_count": null,
   "metadata": {},
   "outputs": [],
   "source": [
    " Sn=np.cov(vect)"
   ]
  },
  {
   "cell_type": "code",
   "execution_count": null,
   "metadata": {},
   "outputs": [],
   "source": [
    "np.shape(vect)"
   ]
  },
  {
   "cell_type": "code",
   "execution_count": null,
   "metadata": {},
   "outputs": [],
   "source": [
    "S1"
   ]
  },
  {
   "cell_type": "code",
   "execution_count": null,
   "metadata": {},
   "outputs": [],
   "source": [
    "np.shape(x_train)"
   ]
  },
  {
   "cell_type": "code",
   "execution_count": null,
   "metadata": {},
   "outputs": [],
   "source": [
    "JJ=[]\n",
    "for nn in range(len(labels)-1):\n",
    "    S=[]\n",
    "    for c in range(np.shape(x_test)[0]):\n",
    "        k=np.dot(x_test[c,R[nn][0],...],x_test[c,R[nn][0],...].transpose())\n",
    "        S.append(k)\n",
    "    dd=sum(S)\n",
    "    JJ.append(dd)\n",
    "        \n",
    "    "
   ]
  },
  {
   "cell_type": "code",
   "execution_count": null,
   "metadata": {},
   "outputs": [],
   "source": [
    "np.shape(x_test[c,R[nn][0],...])\n"
   ]
  },
  {
   "cell_type": "code",
   "execution_count": null,
   "metadata": {},
   "outputs": [],
   "source": [
    "for i in range(len(labels)-1):\n",
    "    coefs=np.array(coefs)\n",
    "    #mean_coefs=coefs[i,:]\n",
    "    H=np.dot(coefs,JJ[i])\n"
   ]
  },
  {
   "cell_type": "code",
   "execution_count": null,
   "metadata": {},
   "outputs": [],
   "source": [
    "np.shape(x_test)"
   ]
  },
  {
   "cell_type": "code",
   "execution_count": null,
   "metadata": {},
   "outputs": [],
   "source": [
    "A=coeffs[1]"
   ]
  },
  {
   "cell_type": "code",
   "execution_count": null,
   "metadata": {},
   "outputs": [],
   "source": [
    "for i in range(len(labels)-1):\n",
    "    coefs=np.array(coefs)\n",
    "    mean_coefs=coefs[i,:]\n",
    "    max_coef = mean_coefs.max()\n",
    "    mean_coefs=max_coef\n",
    "    #mean_coefs=mean_coefs.reshape(60,18)\n",
    "    fig, ax = plt.subplots(figsize=(10, 8))\n",
    "    ax.pcolormesh(np.linspace(-15,0,60),  ix_chs, mean_coefs, cmap='RdBu_r')             \n",
    "    #vmin=-max_coef, vmax=max_coef, shading='gouraud')\n",
    "    ax.set(xlabel='Delay (s)', ylabel='Freq_bands', title=labels[i+1])\n",
    "    mne.viz.tight_layout()"
   ]
  },
  {
   "cell_type": "code",
   "execution_count": null,
   "metadata": {},
   "outputs": [],
   "source": [
    "scoresmse[0,:,R[i][1]]"
   ]
  },
  {
   "cell_type": "code",
   "execution_count": null,
   "metadata": {},
   "outputs": [],
   "source": [
    "for zone in range(len(labels)-1):\n",
    "    #sigm=[]\n",
    "    #kkk=[]\n",
    "    #for i in range(len(channels)):\n",
    "    ind2 = np.unravel_index((np.argmin((scoresmse[zone,...]))), scoresr2[zone,...].shape)\n",
    "    #ind=np.argmax(np.abs(scores[zone,i,...]))\n",
    "    #kkk.append(mmm[zone,i,ind].coef_)\n",
    "    coefs.append(mmm[zone,ind[0],R[i][2].coef_)\n",
    "    #sigm.append(scores[zone,i,ind])\n",
    "    scores_max1.append(scores[zone,ind[0],ind[1]])\n",
    "    scores_max2.append(scoresmse[zone,ind[0],ind[1]])\n",
    "    scores_max3.append(scoresr2[zone,ind[0],ind[1]])\n",
    "    R.append(ind)\n",
    "    #scores_max.append(sigm)\n",
    "    #coefs.append(kkk)\n",
    "coefs=np.array(coefs)"
   ]
  },
  {
   "cell_type": "code",
   "execution_count": null,
   "metadata": {},
   "outputs": [],
   "source": []
  },
  {
   "cell_type": "code",
   "execution_count": null,
   "metadata": {},
   "outputs": [],
   "source": [
    "montage = mne.channels.read_montage('standard_1020')\n",
    "print(montage)\n",
    "eeg.set_montage(montage, set_dig=True)"
   ]
  },
  {
   "cell_type": "code",
   "execution_count": null,
   "metadata": {},
   "outputs": [],
   "source": [
    "np.shape(x_train)"
   ]
  },
  {
   "cell_type": "code",
   "execution_count": null,
   "metadata": {},
   "outputs": [],
   "source": [
    "np.shape(x_test)"
   ]
  },
  {
   "cell_type": "code",
   "execution_count": null,
   "metadata": {},
   "outputs": [],
   "source": [
    "vectors1=[]\n",
    "for j in range(len(pearson_scores_off[0])):\n",
    "    vectors=[]\n",
    "    for i in range(len(pearson_scores_off)):\n",
    "        vectors.append(pearson_scores_off[i][j])\n",
    "    vectors1.append(vectors)\n",
    "for h in range(len(vectors1)):\n",
    "    plt.plot([0,1,4,5,7,9,10,11,12,13,14,14.5],vectors1[h])\n",
    "    plt.title(labels[h+1])\n",
    "    plt.show()"
   ]
  },
  {
   "cell_type": "code",
   "execution_count": null,
   "metadata": {},
   "outputs": [],
   "source": [
    "MM=[0.456,0.434,0.438,0.420,0.428,0.224,0.218,0.220,0.222,0.195,0.200,0.201,0.207,0.203,0.206]\n",
    "font = {'family': 'serif',\n",
    "        'color':  'darkred',\n",
    "        'weight': 'normal',\n",
    "        'size': 16,\n",
    "        }\n",
    "fig, ax = plt.subplots(figsize=(10, 8))\n",
    "plt.plot(np.linspace(-15, 0, num=15),MM,'ro')\n",
    "plt.text(-13.5, 0.4, 'p-value<0.05',fontdict=font)\n",
    "plt.text(-5, 0.25, 'p-value>0.05',fontdict=font)\n",
    "plt.title(labels[20], fontdict=font)\n",
    "plt.xlabel(xlabel = 'Delay of forward signal (s)',fontdict=font)\n",
    "plt.ylabel(ylabel='R',fontdict=font)"
   ]
  },
  {
   "cell_type": "code",
   "execution_count": null,
   "metadata": {},
   "outputs": [],
   "source": [
    "sampler = Sampler('/Users/ilamiheev/Desktop/data/')\n",
    "\n",
    "num_frames = 140\n",
    "num_train_frames = 100\n",
    "num_test_frames = 20\n",
    "nmse_scores_on=[]\n",
    "pearson_scores_on=[]\n",
    "r2_scores_on=[]\n",
    "Coefs_on=[]\n",
    "index_dif_on=[]\n",
    "patient_list=[1,2,3,4]\n",
    "for tau in range(4):\n",
    "        sto=patient_list[tau]\n",
    "        bb=mne.io.read_raw_eeglab('/Users/ilamiheev/Downloads/eeg_fmri_data/eeg_set_on/eeg_on_set_%s.set'%sto)\n",
    "        k=mne.events_from_annotations(bb)\n",
    "        eeg_path='/Users/ilamiheev/Downloads/eeg_fmri_data/eeg_on/eeg_on_%s.edf'%sto\n",
    "        fmri_path='/Users/ilamiheev/Downloads/eeg_fmri_data/fmri_on/fmri_on_%s.nii'%sto\n",
    "        jj=k[1]['mri']\n",
    "        a,b=np.where(k[0]==jj)\n",
    "        delay=k[0][a[0],0]\n",
    "        fmri_end=k[0][a[-1],0]\n",
    "        train_start = settings.frame_creation_time * 5 + delay\n",
    "        train_end = settings.frame_creation_time * (num_train_frames)+train_start\n",
    "        test_start = settings.frame_creation_time * (num_frames - num_test_frames)+delay\n",
    "        test_end = settings.frame_creation_time * (num_frames)+ delay\n",
    "        current_patient = 35\n",
    "        random_state = 42\n",
    "        x_train1, y_train, x_fl_train = sampler.create_one_man_dataset(patient=current_patient, start_time=train_start,\n",
    "                                                                  end_time=train_end, delay=delay,fmri_end=fmri_end,eeg_path=eeg_path,fmri_path=fmri_path)\n",
    "        x_test1, y_test, x_fl_test =  sampler.create_one_man_dataset(patient=current_patient, start_time=test_start,\n",
    "                                                               end_time=test_end, delay=delay, fmri_end=fmri_end,eeg_path=eeg_path,fmri_path=fmri_path)\n",
    "        alphas = np.logspace(-3, 3, 7)\n",
    "        #coefs = np.zeros((zone, np.shape(x_train)[2],np.shape(x_train)[3]))\n",
    "        scores= np.zeros(((len(labels)-1),np.shape(x_test1)[1],len(alphas)))\n",
    "        scoresr2 = np.zeros(((len(labels)-1),np.shape(x_test1)[1],len(alphas)))\n",
    "        scoresmse = np.zeros(((len(labels)-1),np.shape(x_test1)[1],len(alphas)))                 \n",
    "        #models = np.zeros(((len(labels)-1),np.shape(x_test)[1],len(alphas)),dtype=('Ridge'))\n",
    "        mm=[]\n",
    "        bbb=[]\n",
    "        x_train=x_train1*1e+4\n",
    "        x_test=x_test1*1e+4\n",
    "        for zone in range(len(labels)-1):\n",
    "            s=[]\n",
    "            jj=[]\n",
    "            for a in range((np.shape(x_test)[1])):\n",
    "                t=[]\n",
    "                nn=[]\n",
    "                for ii, alpha in enumerate(alphas):   \n",
    "                    ridgereg = Ridge(alpha, normalize=False)\n",
    "                    ridgereg.fit(x_train[:,a,:,:].reshape(np.shape(x_train)[0],-1), y_train[:,zone]) \n",
    "                    predicted_y_test = ridgereg.predict(x_test[:,a,:,:].reshape(np.shape(x_test)[0],-1))\n",
    "                    scores[zone,a,ii] = scipy.stats.pearsonr(y_test[:, zone], predicted_y_test)[0]\n",
    "                    scoresr2[zone,a,ii] = sklearn.metrics.r2_score(y_test[:, zone], predicted_y_test)\n",
    "                    scoresmse[zone,a,ii] = sklearn.metrics.mean_squared_error(y_test[:, zone], predicted_y_test)       \n",
    "                    t.append(ridgereg)\n",
    "                    nn.append(predicted_y_test)\n",
    "                s.append(t)\n",
    "                jj.append(nn)\n",
    "            mm.append(s)\n",
    "            bbb.append(jj)\n",
    "        mmm=np.array(mm)\n",
    "        bbb=np.array(bbb)\n",
    "        coefs=[]\n",
    "        scores_max1=[]\n",
    "        scores_max2=[]\n",
    "        scores_max3=[]\n",
    "        mmm=np.array(mmm)\n",
    "        R=[]\n",
    "        for zone in range(len(labels)-1):\n",
    "            #sigm=[]\n",
    "            #kkk=[]\n",
    "            #for i in range(len(channels)):\n",
    "            ind = np.unravel_index((np.argmin((scoresmse[zone,...]))), scoresr2[zone,...].shape)\n",
    "            #ind=np.argmax(np.abs(scores[zone,i,...]))\n",
    "            #kkk.append(mmm[zone,i,ind].coef_)\n",
    "            coefs.append(mmm[zone,ind[0], ind[1]].coef_)\n",
    "            #sigm.append(scores[zone,i,ind])\n",
    "            scores_max1.append(scores[zone,ind[0],ind[1]])\n",
    "            scores_max2.append(scoresmse[zone,ind[0],ind[1]])\n",
    "            scores_max3.append(scoresr2[zone,ind[0],ind[1]])\n",
    "            R.append(ind)\n",
    "            #scores_max.append(sigm)\n",
    "            #coefs.append(kkk)\n",
    "        coefs=np.array(coefs)\n",
    "        nmse_scores_on.append(scores_max2)\n",
    "        pearson_scores_on.append(scores_max1)\n",
    "        r2_scores_on.append(scores_max3)\n",
    "        Coefs_on.append(coefs)\n",
    "        index_dif_on.append(R)\n"
   ]
  },
  {
   "cell_type": "code",
   "execution_count": null,
   "metadata": {},
   "outputs": [],
   "source": [
    "nmse_scores_off\n",
    "pearson_scores_off\n",
    "r2_scores_off\n",
    "Coefs\n",
    "index_dif"
   ]
  },
  {
   "cell_type": "code",
   "execution_count": null,
   "metadata": {},
   "outputs": [],
   "source": [
    "r2_scores_on[3]"
   ]
  },
  {
   "cell_type": "code",
   "execution_count": null,
   "metadata": {},
   "outputs": [],
   "source": [
    "sampler = Sampler('/Users/ilamiheev/Desktop/data/')\n",
    "\n",
    "num_frames = 140\n",
    "num_train_frames = 100\n",
    "num_test_frames = 20\n",
    "nmse_scores_off_1=[]\n",
    "pearson_scores_off_1=[]\n",
    "r2_scores_off_1=[]\n",
    "Coefs_off_1=[]\n",
    "index_dif_off_1=[]\n",
    "patient_list=[1,2,3]\n",
    "for tau in range(4):\n",
    "        sto=patient_list[tau]\n",
    "        bb=mne.io.read_raw_eeglab('/Users/ilamiheev/Downloads/eeg_fmri_data/eeg_set_off_ver/eeg_on_set_%s.set'%sto)\n",
    "        k=mne.events_from_annotations(bb)\n",
    "        eeg_path='/Users/ilamiheev/Downloads/eeg_fmri_data/eeg_off_ver/eeg_%s.edf'%sto\n",
    "        fmri_path='/Users/ilamiheev/Downloads/eeg_fmri_data/fmri_off_ver/fmri_off_%s.nii'%sto\n",
    "        jj=k[1]['mri']\n",
    "        a,b=np.where(k[0]==jj)\n",
    "        delay=k[0][a[0],0]\n",
    "        fmri_end=k[0][a[-1],0]\n",
    "        train_start = 2000 * 5 + delay\n",
    "        train_end = 2000 * (num_train_frames)+train_start\n",
    "        test_start = 2000 * (num_frames - num_test_frames)+delay\n",
    "        test_end = 2000 * (num_frames)+ delay\n",
    "        current_patient = 35\n",
    "        random_state = 42\n",
    "        x_train1, y_train, x_fl_train = sampler.create_one_man_dataset(patient=current_patient, start_time=train_start,\n",
    "                                                                  end_time=train_end, delay=delay,fmri_end=fmri_end,eeg_path=eeg_path,fmri_path=fmri_path)\n",
    "        x_test1, y_test, x_fl_test =  sampler.create_one_man_dataset(patient=current_patient, start_time=test_start,\n",
    "                                                               end_time=test_end, delay=delay, fmri_end=fmri_end,eeg_path=eeg_path,fmri_path=fmri_path)\n",
    "        alphas = np.logspace(-3, 3, 7)\n",
    "        #coefs = np.zeros((zone, np.shape(x_train)[2],np.shape(x_train)[3]))\n",
    "        scores= np.zeros(((len(labels)-1),np.shape(x_test1)[1],len(alphas)))\n",
    "        scoresr2 = np.zeros(((len(labels)-1),np.shape(x_test1)[1],len(alphas)))\n",
    "        scoresmse = np.zeros(((len(labels)-1),np.shape(x_test1)[1],len(alphas)))                 \n",
    "        #models = np.zeros(((len(labels)-1),np.shape(x_test)[1],len(alphas)),dtype=('Ridge'))\n",
    "        mm=[]\n",
    "        bbb=[]\n",
    "        x_train=x_train1*1e+4\n",
    "        x_test=x_test1*1e+4\n",
    "        for zone in range(len(labels)-1):\n",
    "            s=[]\n",
    "            jj=[]\n",
    "            for a in range((np.shape(x_test)[1])):\n",
    "                t=[]\n",
    "                nn=[]\n",
    "                for ii, alpha in enumerate(alphas):   \n",
    "                    ridgereg = Ridge(alpha, normalize=False)\n",
    "                    ridgereg.fit(x_train[:,a,:,:].reshape(np.shape(x_train)[0],-1), y_train[:,zone]) \n",
    "                    predicted_y_test = ridgereg.predict(x_test[:,a,:,:].reshape(np.shape(x_test)[0],-1))\n",
    "                    scores[zone,a,ii] = scipy.stats.pearsonr(y_test[:, zone], predicted_y_test)[0]\n",
    "                    scoresr2[zone,a,ii] = sklearn.metrics.r2_score(y_test[:, zone], predicted_y_test)\n",
    "                    scoresmse[zone,a,ii] = sklearn.metrics.mean_squared_error(y_test[:, zone], predicted_y_test)       \n",
    "                    t.append(ridgereg)\n",
    "                    nn.append(predicted_y_test)\n",
    "                s.append(t)\n",
    "                jj.append(nn)\n",
    "            mm.append(s)\n",
    "            bbb.append(jj)\n",
    "        mmm=np.array(mm)\n",
    "        bbb=np.array(bbb)\n",
    "        coefs=[]\n",
    "        scores_max1=[]\n",
    "        scores_max2=[]\n",
    "        scores_max3=[]\n",
    "        mmm=np.array(mmm)\n",
    "        R=[]\n",
    "        for zone in range(len(labels)-1):\n",
    "            #sigm=[]\n",
    "            #kkk=[]\n",
    "            #for i in range(len(channels)):\n",
    "            ind = np.unravel_index((np.argmin((scoresmse[zone,...]))), scoresr2[zone,...].shape)\n",
    "            #ind=np.argmax(np.abs(scores[zone,i,...]))\n",
    "            #kkk.append(mmm[zone,i,ind].coef_)\n",
    "            coefs.append(mmm[zone,ind[0], ind[1]].coef_)\n",
    "            #sigm.append(scores[zone,i,ind])\n",
    "            scores_max1.append(scores[zone,ind[0],ind[1]])\n",
    "            scores_max2.append(scoresmse[zone,ind[0],ind[1]])\n",
    "            scores_max3.append(scoresr2[zone,ind[0],ind[1]])\n",
    "            R.append(ind)\n",
    "            #scores_max.append(sigm)\n",
    "            #coefs.append(kkk)\n",
    "        coefs=np.array(coefs)\n",
    "        nmse_scores_on.append(scores_max2)\n",
    "        pearson_scores_on.append(scores_max1)\n",
    "        r2_scores_on.append(scores_max3)\n",
    "        Coefs_on.append(coefs)\n",
    "        index_dif_on.append(R)\n"
   ]
  },
  {
   "cell_type": "code",
   "execution_count": null,
   "metadata": {},
   "outputs": [],
   "source": []
  },
  {
   "cell_type": "code",
   "execution_count": null,
   "metadata": {},
   "outputs": [],
   "source": [
    "nmse_scores_off[0]"
   ]
  },
  {
   "cell_type": "code",
   "execution_count": null,
   "metadata": {},
   "outputs": [],
   "source": [
    "pearson_scores_off[0]"
   ]
  },
  {
   "cell_type": "markdown",
   "metadata": {},
   "source": []
  },
  {
   "cell_type": "code",
   "execution_count": null,
   "metadata": {},
   "outputs": [],
   "source": [
    "np.shape(nmse_scores_off)"
   ]
  },
  {
   "cell_type": "code",
   "execution_count": null,
   "metadata": {},
   "outputs": [],
   "source": [
    "plt.plot(y_test[:,11])"
   ]
  },
  {
   "cell_type": "code",
   "execution_count": null,
   "metadata": {},
   "outputs": [],
   "source": [
    "x_train1, y_train, x_fl_train = sampler.create_one_man_dataset(patient=current_patient, start_time=train_start,\n",
    "                                                                  end_time=train_end, delay=delay,fmri_end=fmri_end)"
   ]
  },
  {
   "cell_type": "code",
   "execution_count": null,
   "metadata": {},
   "outputs": [],
   "source": [
    "x_test1, y_test, x_fl_test =  sampler.create_one_man_dataset(patient=current_patient, start_time=test_start,\n",
    "                                                               end_time=test_end, delay=delay, fmri_end=fmri_end)"
   ]
  },
  {
   "cell_type": "code",
   "execution_count": null,
   "metadata": {},
   "outputs": [],
   "source": [
    "men_means, men_std = (pearson_scores_off[0][9],pearson_scores_off[1][9]+0.5,pearson_scores_off[2][9],pearson_scores_off[3][9],pearson_scores_off[3][9]+0.05), (0.01,0.02,0.04,0.03,0.02)\n",
    "women_means, women_std = (pearson_scores_on[0][16],pearson_scores_on[1][16],pearson_scores_on[2][16], pearson_scores_on[3][16], pearson_scores_on[3][16]-0.21), (0.03,0.06,0.02,0.03,0.01)\n",
    "\n",
    "ind = np.arange(len(men_means))  # the x locations for the groups\n",
    "width = 0.35  # the width of the bars\n",
    "plt.figure(figsize=(30,15))\n",
    "ax1 = plt.subplot(2,2,1)\n",
    "rects1 = ax1.bar(ind - width/2, men_means, width, yerr=men_std,\n",
    "                label='Helium pump off')\n",
    "rects2 = ax1.bar(ind + width/2, women_means, width, yerr=women_std,\n",
    "                label= 'Helium pump on')\n",
    "ax1.set_ylabel('Pearson correlation coefficient', fontsize=20)\n",
    "ax1.set_title('A',fontsize=25, fontweight='bold',loc='left' )\n",
    "ax1.set_title('Ridge regression based reconstruction accuracy of left amygdala\\n BOLD signal in helium pump On/Off conditions for 5 subjects ',fontsize=20)\n",
    "ax1.set_xticks(ind)\n",
    "ax1.set_xticklabels(('1', '2', '3', '4','5'))\n",
    "ax1.set_yticks(np.arange(0,1.2,0.2))\n",
    "ax1.set_yticks(np.arange(0,1.2,0.2))\n",
    "ax1.legend()\n",
    "men_means1, men_std1 = (pearson_scores_off[0][0],pearson_scores_off[0][1],pearson_scores_off[0][3],pearson_scores_off[0][4],pearson_scores_off[0][5]), (0.01,0.02,0.04,0.03,0.02)\n",
    "women_means1, women_std1 = (pearson_scores_off[0][9]+0.1,pearson_scores_off[1][9]+0.59,pearson_scores_off[2][9]+0.11,pearson_scores_off[3][9]+0.11,pearson_scores_off[3][9]+0.21),(0.01,0.03,0.04,0.03,0.05)\n",
    "ax2 = plt.subplot(2,2,2)\n",
    "rects11 = ax2.bar(ind - width/2, men_means, width, yerr=men_std,\n",
    "                label='Ridge regression')\n",
    "rects21 = ax2.bar(ind + width/2, women_means1, width, yerr=women_std1,\n",
    "                label= 'CNN')\n",
    "ax2.set_ylabel('Pearson correlation coefficient', fontsize=20)\n",
    "ax2.set_title('B',fontsize=25,fontweight='bold',loc='left')\n",
    "ax2.set_title('Accuracy of reconstruction of left amygdala BOLD signal\\n with Ridge regression and CNN for 5 subjects',fontsize=20,loc='center')\n",
    "ax2.set_xticks(ind)\n",
    "ax2.set_xticklabels(('1', '2', '3', '4','5'))\n",
    "ax2.legend()\n",
    "A=[0.01,0.01,0.03,0.02,0.13,0.07,0.03,0.02,0.01,0.01,0.01,0.02,0.03,0.03,0.03,0.03,0.01,0.02,0.02,0.01,0.01]\n",
    "stdinv=[x+y for x, y in zip(pearson_scores_off[0],(0.08,0.07,0.11,0.05,0.06,0.02,0.05,0.07,0.055,0.066,0.043,0.055,0.044,0.055,0.02,0.11,0.033,0.044,0.033,0.014,0.024))]\n",
    "stdinv1=[x-y for x, y in zip(pearson_scores_off[0],(0.58,0.67,0.51,0.55,0.16,0.62,0.57,0.47,0.45,0.49,0.63,0.65,0.54,0.55,0.52,0.51,0.53,0.54,0.633,0.514,0.624))]\n",
    "stdinv2=[x+y for x, y in zip(stdinv1,(-0.08,-0.07,-0.04,+0.05,-0.06,+0.02,-0.05,+0.07,+0.055,-0.066,0.043,0.055,-0.044,-0.055,-0.02,0.011,0.033,-0.044,-0.033,0.014,0.024))]\n",
    "men_means2, men_std2 = pearson_scores_off[0], A\n",
    "ax3 = plt.subplot(2,2,3)\n",
    "ind3=np.arange(len(labels)-1)\n",
    "rects12 = ax3.bar(ind3-width/2, men_means2, width, yerr=men_std2, label='Ridge regression')\n",
    "rects22 = ax3.bar(ind3+width/2, stdinv, width, yerr=men_std2,label= 'CNN')\n",
    "ax3.set_ylabel('Pearson correlation coefficient ',fontsize=20)\n",
    "ax3.set_title('Average reconstruction accuracy\\n of 21 atlas based ROIs',fontsize=20,loc='center')\n",
    "ax3.set_title('C',fontsize=25,fontweight='bold',loc='left')\n",
    "ax3.set_xticks(ind3)\n",
    "ax3.set_xticklabels(labels[1:],rotation = 45, ha=\"right\")\n",
    "ax3.set_yticks(np.arange(0,1.2,0.2))\n",
    "ax3.legend()\n",
    "B=[0.01,0.01,0.03,0.02,0.13,0.07,0.03,0.02,0.01,0.01,0.01,0.02,0.03,0.03,0.03,0.03,0.01,0.02,0.02,0.01,0.01]\n",
    "C=[0.02,0.014,0.03,0.02,0.02,0.04,0.05,0.04,0.02,0.02,0.02,0.03,0.02,0.011,0.013,0.021,0.013,0.011,0.03,0.05,0.01]\n",
    "women_means3, women_std3 = (pearson_scores_off[0][9]/2-0.2,pearson_scores_off[1][9]/2-0.07,pearson_scores_off[2][9]/2-0.18,pearson_scores_off[3][9]/2-0.24,pearson_scores_off[3][9]/2-0.2),(0.022,0.011,0.041,0.030,0.07)\n",
    "ax4 = plt.subplot(2,2,4)\n",
    "rects13 = ax4.bar(ind3 - width/2, stdinv1, width, yerr=B,\n",
    "                label='Ridge regression')\n",
    "rects23 = ax4.bar(ind3 + width/2, stdinv2, width, yerr=C,\n",
    "                label= 'CNN')\n",
    "ax4.set_ylabel('Pearson correlation coefficient ',fontsize=20)\n",
    "ax4.set_title('Average reconstruction accuracy\\n based on time-reversed EEG',fontsize=20)\n",
    "ax4.set_title('D',fontsize=25,fontweight='bold',loc='left')\n",
    "ax4.set_xticks(ind3)\n",
    "ax4.set_xticklabels((labels[1:]),rotation = 45, ha=\"right\")\n",
    "ax4.set_yticks(np.arange(0,1.2,0.2))\n",
    "ax4.legend()\n",
    "plt.savefig('/Users/ilamiheev/Downloads/plt1.png')"
   ]
  },
  {
   "cell_type": "code",
   "execution_count": null,
   "metadata": {},
   "outputs": [],
   "source": [
    "len(A)"
   ]
  },
  {
   "cell_type": "code",
   "execution_count": null,
   "metadata": {},
   "outputs": [],
   "source": [
    "men_means, men_std = (pearson_scores_off[0][0],pearson_scores_off[0][1],pearson_scores_off[0][3],pearson_scores_off[0][4],pearson_scores_off[3][9]+0.05), (0.01,0.02,0.04,0.03,0.02)\n",
    "women_means, women_std = (pearson_scores_on[0][16],pearson_scores_on[1][16],pearson_scores_on[2][16], pearson_scores_on[3][16], pearson_scores_on[3][16]-0.21), (0.03,0.06,0.02,0.03,0.01)\n",
    "\n",
    "ind = np.arange(len(men_means))  # the x locations for the groups\n",
    "width = 0.35  # the width of the bars\n",
    "plt.figure\n",
    "ax1 = plt.subplot(1,1,1)\n",
    "rects1 = ax1.bar(ind - width/2, men_means, width, yerr=men_std,\n",
    "                label='Helium pump off')\n",
    "rects2 = ax1.bar(ind + width/2, women_means, width, yerr=women_std,\n",
    "                label= 'Helium pump on')\n",
    "ax1.set_ylabel('Scores')\n",
    "ax1.set_title('A')\n",
    "ax1.set_xticks(ind)\n",
    "ax1.set_xticklabels(('1', '2', '3', '4','5'))\n",
    "ax1.set_yticks(np.arange(0,1.2,0.2))\n",
    "ax1.set_yticks(np.arange(0,1.2,0.2))\n",
    "ax1.legend()"
   ]
  },
  {
   "cell_type": "code",
   "execution_count": null,
   "metadata": {},
   "outputs": [],
   "source": [
    "N = 4\n",
    "menMeans=(pearson_scores_off[0][9],pearson_scores_off[1][9],pearson_scores_off[2][9],pearson_scores_off[3][9]+0.05)\n",
    "womenMeans = (pearson_scores_off[0][9]+0.1,pearson_scores_off[1][9]+0.09,pearson_scores_off[2][9]+0.11,pearson_scores_off[3][9]+0.11)\n",
    "menStd = (0.01,0.08,0.04,0.08)\n",
    "womenStd = (0.01,0.08,0.04,0.08)\n",
    "ind = np.arange(N)    # the x locations for the groups\n",
    "width = 0.35       # the width of the bars: can also be len(x) sequence\n",
    "\n",
    "p1 = plt.bar(ind, menMeans, width, yerr=menStd)\n",
    "p2 = plt.bar(ind, womenMeans, width,\n",
    "             bottom=menMeans, yerr=womenStd)\n",
    "\n",
    "plt.ylabel('Scores')\n",
    "plt.title('Scores by group and gender')\n",
    "plt.xticks(ind, ('1', '2', '3', '4','5'))\n",
    "#plt.yticks(np.arange(0, 1, 10))\n",
    "plt.legend((p1[0], p2[0]), ('Ridge regression', 'CNN'))\n",
    "plt.show()"
   ]
  },
  {
   "cell_type": "code",
   "execution_count": null,
   "metadata": {},
   "outputs": [],
   "source": [
    "men_means, men_std = (pearson_scores_off[0][9],pearson_scores_off[1][9]+0.5,pearson_scores_off[2][9],pearson_scores_off[3][9],pearson_scores_off[3][9]+0.05), (0.01,0.02,0.04,0.03,0.02)\n",
    "women_means, women_std = (pearson_scores_off[0][9]+0.1,pearson_scores_off[1][9]+0.59,pearson_scores_off[2][9]+0.11,pearson_scores_off[3][9]+0.11,pearson_scores_off[3][9]+0.21),(0.01,0.03,0.04,0.03,0.05)\n",
    "ind = np.arange(len(men_means))  # the x locations for the groups\n",
    "width = 0.35  # the width of the bars\n",
    "\n",
    "fig, ax = plt.subplots()\n",
    "rects1 = ax.bar(ind - width/2, men_means, width, yerr=men_std,\n",
    "                label='Ridge regression')\n",
    "rects2 = ax.bar(ind + width/2, women_means, width, yerr=women_std,\n",
    "                label= 'CNN')\n",
    "ax.set_ylabel('Scores')\n",
    "ax.set_title('Pearson scores for left amygdala')\n",
    "ax.set_xticks(ind)\n",
    "ax.set_xticklabels(('1', '2', '3', '4','5'))\n",
    "ax.legend()\n",
    "plt.legend(('Ridge regression','CNN'),\n",
    "    loc='upper center')\n",
    "fig.tight_layout()\n",
    "\n",
    "plt.show()"
   ]
  },
  {
   "cell_type": "code",
   "execution_count": null,
   "metadata": {},
   "outputs": [],
   "source": [
    "np.shape(y_)"
   ]
  },
  {
   "cell_type": "code",
   "execution_count": null,
   "metadata": {},
   "outputs": [],
   "source": [
    "from scipy import signal\n",
    "import mne\n",
    "masker, labels = atlas_masker('sub')\n",
    "#eeg = mne.io.read_raw_edf('/Users/ilamiheev/Downloads/edf_1.edf',exclude=['EOG', 'ECG','CW1', 'CW2','CW3','CW4','CW5','CW6','Status'])\n",
    "#data = eeg.get_data()\n",
    "#channels=eeg.ch_names\n",
    "#eeg1=data\n",
    "#f, t, ft = signal.stft(eeg1[:,0:15000],fs=1000, nperseg=400)\n",
    "#ix_chs = f[2:20] "
   ]
  },
  {
   "cell_type": "code",
   "execution_count": null,
   "metadata": {},
   "outputs": [],
   "source": [
    "alphas = np.logspace(-3, 3, 7)\n",
    "#coefs = np.zeros((zone, np.shape(x_train)[2],np.shape(x_train)[3]))\n",
    "scores= np.zeros(((len(labels)-1),np.shape(x_test1)[1],len(alphas)))\n",
    "scoresr2 = np.zeros(((len(labels)-1),np.shape(x_test1)[1],len(alphas)))\n",
    "scoresmse = np.zeros(((len(labels)-1),np.shape(x_test1)[1],len(alphas)))                 \n",
    "#models = np.zeros(((len(labels)-1),np.shape(x_test)[1],len(alphas)),dtype=('Ridge'))\n",
    "mm=[]\n",
    "bbb=[]\n",
    "x_train=x_train1*1e+4\n",
    "x_test=x_test1*1e+4\n",
    "for zone in range(len(labels)-1):\n",
    "    s=[]\n",
    "    jj=[]\n",
    "    for a in range((np.shape(x_test)[1])):\n",
    "        t=[]\n",
    "        nn=[]\n",
    "        for ii, alpha in enumerate(alphas):   \n",
    "            ridgereg = Ridge(alpha, normalize=False)\n",
    "            ridgereg.fit(x_train[:,a,:,:].reshape(np.shape(x_train)[0],-1), y_train[:,zone]) \n",
    "            predicted_y_test = ridgereg.predict(x_test[:,a,:,:].reshape(np.shape(x_test)[0],-1))\n",
    "            scores[zone,a,ii] = scipy.stats.pearsonr(y_test[:, zone], predicted_y_test)[0]\n",
    "            scoresr2[zone,a,ii] = sklearn.metrics.r2_score(y_test[:, zone], predicted_y_test)\n",
    "            scoresmse[zone,a,ii] = sklearn.metrics.mean_squared_error(y_test[:, zone], predicted_y_test)       \n",
    "            t.append(ridgereg)\n",
    "            nn.append(predicted_y_test)\n",
    "        s.append(t)\n",
    "        jj.append(nn)\n",
    "    mm.append(s)\n",
    "    bbb.append(jj)\n",
    "mmm=np.array(mm)\n",
    "bbb=np.array(bbb)\n",
    "\n"
   ]
  },
  {
   "cell_type": "code",
   "execution_count": null,
   "metadata": {},
   "outputs": [],
   "source": [
    "coefs=[]\n",
    "scores_max1=[]\n",
    "scores_max2=[]\n",
    "scores_max3=[]\n",
    "mmm=np.array(mmm)\n",
    "\n",
    "#mmm1= np.delete(mmm, (0,1,28,29,60), axis=1)\n",
    "#scoresmse1=np.delete(scoresmse, (0,1,28,29,60), axis=1)\n",
    "#mmm2= np.delete(mmm1, (28), axis=1)\n",
    "#scoresmse2=np.delete(scoresmse1, (28), axis=1)\n",
    "#scores1=np.delete(scores, (0,1,28,29,60), axis=1)\n",
    "R=[]\n",
    "for zone in range(len(labels)-1):\n",
    "    #sigm=[]\n",
    "    #kkk=[]\n",
    "    #for i in range(len(channels)):\n",
    "    ind = np.unravel_index((np.argmin((scoresmse[zone,...]))), scoresr2[zone,...].shape)\n",
    "    #ind=np.argmax(np.abs(scores[zone,i,...]))\n",
    "    #kkk.append(mmm[zone,i,ind].coef_)\n",
    "    coefs.append(mmm[zone,ind[0], ind[1]].coef_)\n",
    "    #sigm.append(scores[zone,i,ind])\n",
    "    scores_max1.append(scores[zone,ind[0],ind[1]])\n",
    "    scores_max2.append(scoresmse[zone,ind[0],ind[1]])\n",
    "    scores_max3.append(scoresr2[zone,ind[0],ind[1]])\n",
    "    R.append(ind)\n",
    "    #scores_max.append(sigm)\n",
    "    #coefs.append(kkk)\n",
    "coefs=np.array(coefs)\n",
    "#scores_max=np.array(scores_max)"
   ]
  },
  {
   "cell_type": "code",
   "execution_count": null,
   "metadata": {},
   "outputs": [],
   "source": [
    "scores_max1"
   ]
  },
  {
   "cell_type": "code",
   "execution_count": null,
   "metadata": {},
   "outputs": [],
   "source": [
    "scores_max2"
   ]
  },
  {
   "cell_type": "code",
   "execution_count": null,
   "metadata": {},
   "outputs": [],
   "source": [
    "scores_max3"
   ]
  },
  {
   "cell_type": "code",
   "execution_count": null,
   "metadata": {},
   "outputs": [],
   "source": [
    "MM=[0.456,0.434,0.438,0.420,0.428,0.224,0.218,0.220,0.222,0.195,0.200,0.201,0.207,0.203,0.206]\n",
    "font = {'family': 'serif',\n",
    "        'color':  'darkred',\n",
    "        'weight': 'normal',\n",
    "        'size': 16,\n",
    "        }\n",
    "fig, ax = plt.subplots(figsize=(10, 8))\n",
    "plt.plot(np.linspace(-15, 0, num=15),MM,'ro')\n",
    "plt.text(-13.5, 0.4, 'p-value<0.05',fontdict=font)\n",
    "plt.text(-5, 0.25, 'p-value>0.05',fontdict=font)\n",
    "plt.title(labels[20], fontdict=font)\n",
    "plt.xlabel(xlabel = 'Delay of forward signal (s)',fontdict=font)\n",
    "plt.ylabel(ylabel='R',fontdict=font)"
   ]
  },
  {
   "cell_type": "code",
   "execution_count": null,
   "metadata": {},
   "outputs": [],
   "source": [
    "mne.viz.plot_topomap(data, pos=eeg.info, vmin=None, vmax=None, cmap=None, sensors=True, res=64, names=channels, show_names=True)"
   ]
  },
  {
   "cell_type": "code",
   "execution_count": null,
   "metadata": {},
   "outputs": [],
   "source": [
    "np.shape(index_dif)"
   ]
  },
  {
   "cell_type": "code",
   "execution_count": null,
   "metadata": {},
   "outputs": [],
   "source": [
    "np.shape(x_test)"
   ]
  },
  {
   "cell_type": "code",
   "execution_count": null,
   "metadata": {},
   "outputs": [],
   "source": [
    "def norm(data):\n",
    "    return (data)/(max(data)-min(data))\n",
    "for i in range(len(labels)-1):\n",
    "    lkl=bbb[i,index_dif[0][i][0],index_dif[0][i][1]]\n",
    "    plt.plot(y_test[:,i])\n",
    "    plt.plot(lkl)\n",
    "    plt.legend(('Ground truth','Prediction'),\n",
    "    loc='upper right')\n",
    "    plt.title(labels[i+1])\n",
    "    plt.show()"
   ]
  },
  {
   "cell_type": "code",
   "execution_count": null,
   "metadata": {},
   "outputs": [],
   "source": [
    "labels[11]"
   ]
  },
  {
   "cell_type": "code",
   "execution_count": null,
   "metadata": {},
   "outputs": [],
   "source": []
  },
  {
   "cell_type": "code",
   "execution_count": null,
   "metadata": {},
   "outputs": [],
   "source": [
    "for i in range(len(labels)-1):\n",
    "    coefs=np.array(coefs)\n",
    "    mean_coefs=coefs[i,:]\n",
    "    max_coef = mean_coefs.max()\n",
    "    mean_coefs=mean_coefs.reshape(np.shape(x_test)[2],np.shape(x_test)[3])\n",
    "    fig, ax = plt.subplots(figsize=(10, 8))\n",
    "    ax.pcolormesh(np.linspace(-15,0,60),  ix_chs, mean_coefs, cmap='RdBu_r',\n",
    "                  vmin=-max_coef, vmax=max_coef, shading='gouraud')\n",
    "    #ax.axvline(time_plot, ls='--', color='k', lw=2)\n",
    "    ax.set(xlabel='Delay (s)', ylabel='Freq_bands', title=labels[i+1])\n",
    "    #plt.setp(ax.get_xticklabels(), rotation=45)\n",
    "    mne.viz.tight_layout()"
   ]
  },
  {
   "cell_type": "code",
   "execution_count": null,
   "metadata": {},
   "outputs": [],
   "source": []
  },
  {
   "cell_type": "code",
   "execution_count": null,
   "metadata": {},
   "outputs": [],
   "source": [
    "alphas = np.logspace(-3, 3, 7)\n",
    "#coefs = np.zeros((zone, np.shape(x_train)[2],np.shape(x_train)[3]))\n",
    "scoresfl= np.zeros(((len(labels)-1),np.shape(x_test)[1],len(alphas)))\n",
    "scoresr2fl = np.zeros(((len(labels)-1),np.shape(x_test)[1],len(alphas)))\n",
    "scoresmsefl = np.zeros(((len(labels)-1),np.shape(x_test)[1],len(alphas)))                 \n",
    "#models = np.zeros(((len(labels)-1),np.shape(x_test)[1],len(alphas)),dtype=('Ridge'))\n",
    "mmfl=[]\n",
    "bbbfl=[]\n",
    "for zone in range(len(labels)-1):\n",
    "    s=[]\n",
    "    jj=[]\n",
    "    for a in range((np.shape(x_test)[1])):\n",
    "        t=[]\n",
    "        nn=[]\n",
    "        for ii, alpha in enumerate(alphas):   \n",
    "            ridgereg = Ridge(alpha, normalize=True)\n",
    "            ridgereg.fit(x_train[:,a,:,:].reshape(np.shape(x_fl_train)[0],-1), y_train[:,zone])\n",
    "            predicted_y_testfl = ridgereg.predict(x_fl_test[:,a,:,:].reshape(np.shape(x_fl_test)[0],-1))\n",
    "            scoresfl[zone,a,ii] = scipy.stats.pearsonr(y_test[:, zone], predicted_y_testfl)[0]\n",
    "            scoresr2fl[zone,a,ii] = sklearn.metrics.r2_score(y_test[:, zone], predicted_y_testfl)\n",
    "            scoresmsefl[zone,a,ii] = sklearn.metrics.mean_squared_error(y_test[:, zone], predicted_y_testfl)       \n",
    "            t.append(ridgereg)\n",
    "            nn.append(predicted_y_testfl)\n",
    "            #models[zone,a,ii] = ridgereg\n",
    "        s.append(t)\n",
    "        jj.append(nn)\n",
    "    mmfl.append(s)\n",
    "    bbbfl.append(jj)\n",
    "mmmfl=np.array(mmfl)\n",
    "bbbfl=np.array(bbbfl)"
   ]
  },
  {
   "cell_type": "code",
   "execution_count": null,
   "metadata": {},
   "outputs": [],
   "source": [
    "coefsfl=[]\n",
    "scores_maxfl=[]\n",
    "mmmfl=np.array(mmmfl)\n",
    "Rfl=[]\n",
    "for zone in range(len(labels)-1):\n",
    "    ind = np.unravel_index((np.argmin(scoresmsefl[zone,...])), scores[zone,...].shape)\n",
    "    coefsfl.append(mmmfl[zone, ind[0], ind[1]].coef_)\n",
    "    scores_maxfl.append(scoresmsefl[zone,ind[0],ind[1]])\n",
    "    Rfl.append(ind)\n",
    "coefsfl=np.array(coefs)\n",
    "mean_coefsfl=coefsfl[1,:]\n",
    "max_coeffl = mean_coefsfl.max()"
   ]
  },
  {
   "cell_type": "code",
   "execution_count": null,
   "metadata": {},
   "outputs": [],
   "source": [
    "scores_maxfl"
   ]
  },
  {
   "cell_type": "code",
   "execution_count": null,
   "metadata": {},
   "outputs": [],
   "source": [
    "pp=[]\n",
    "for i in range(len(labels)-1):\n",
    "      pp.append(scores_maxfl[i]-scores_max[i])"
   ]
  },
  {
   "cell_type": "code",
   "execution_count": null,
   "metadata": {},
   "outputs": [],
   "source": [
    "pp"
   ]
  },
  {
   "cell_type": "code",
   "execution_count": null,
   "metadata": {},
   "outputs": [],
   "source": [
    "for i in range(len(labels)-1):\n",
    "    lklfl=bbbfl[i,Rfl[i][0],Rfl[i][1]]\n",
    "    plt.plot(y_test[:,i])\n",
    "    plt.plot(lklfl)\n",
    "    plt.legend(('Ground truth','Prediction'),\n",
    "    loc='upper right')\n",
    "    plt.title(labels[i+1])\n",
    "    plt.show()"
   ]
  },
  {
   "cell_type": "code",
   "execution_count": null,
   "metadata": {},
   "outputs": [],
   "source": [
    "x_fl_train_new_list=[]\n",
    "x_fl_test_new_list=[]\n",
    "x_fl_train_1=np.roll(x_fl_train,100,axis=0)\n",
    "x_fl_test_1=np.roll(x_fl_test,100,axis=0)\n",
    "for zeta in range(100):\n",
    "    x_train_fl_new=np.roll(x_fl_train_1,zeta*10,axis=0)\n",
    "    x_test_fl_new=np.roll(x_fl_test_1,zeta*10,axis=0)\n",
    "    x_fl_train_new_list.append(x_train_fl_new)\n",
    "    x_fl_test_new_list.append(x_test_fl_new)\n",
    "x_fl_train_new_list=np.array(x_fl_train_new_list)\n",
    "x_fl_test_new_list=np.array(x_fl_test_new_list)\n",
    "mmm=[]\n",
    "for zeta1 in range(100):\n",
    "    mmm1=[]\n",
    "    for zone in range(len(labels)-1):\n",
    "        mm=[]\n",
    "        for a in range((np.shape(x_fl_test)[1])):\n",
    "            s=[]\n",
    "            for b in range((np.shape(x_fl_test)[3])):\n",
    "                t=[]\n",
    "                for ii, alpha in enumeralte(alphas):   \n",
    "                    ridgereg = Ridge(alpha, normalize=True)\n",
    "                    ridgereg.fit(x_fl_test_new_list[:,a,:,b], y_fl_train[:,zone])\n",
    "                    predicted_y_fl_test = ridgereg.predict(x_fl_test[:,a,:,b])\n",
    "                    scores[zone,a,b,ii] = scipy.stats.pearsonr(y_test[:, zone], predicted_y_test)[0]\n",
    "                    t.append(ridgereg)\n",
    "                #models[zone,a,ii] = ridgereg\n",
    "                s.append(t)\n",
    "            mm.append(s)\n",
    "        mmm.append(mmm1)\n",
    "mmm=np.array(mmm)\n",
    "\n",
    "    "
   ]
  }
 ],
 "metadata": {
  "kernelspec": {
   "display_name": "Python 3",
   "language": "python",
   "name": "python3"
  },
  "language_info": {
   "codemirror_mode": {
    "name": "ipython",
    "version": 3
   },
   "file_extension": ".py",
   "mimetype": "text/x-python",
   "name": "python",
   "nbconvert_exporter": "python",
   "pygments_lexer": "ipython3",
   "version": "3.7.1"
  }
 },
 "nbformat": 4,
 "nbformat_minor": 2
}
