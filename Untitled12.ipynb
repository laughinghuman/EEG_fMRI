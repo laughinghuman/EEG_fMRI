{
 "cells": [
  {
   "cell_type": "code",
   "execution_count": 1,
   "metadata": {},
   "outputs": [],
   "source": [
    "import mne"
   ]
  },
  {
   "cell_type": "code",
   "execution_count": 41,
   "metadata": {},
   "outputs": [
    {
     "name": "stdout",
     "output_type": "stream",
     "text": [
      "Extracting EDF parameters from /Users/ilamiheev/Downloads/Domunyan_315_07_rr_f3.5-40_eyesClean_new_ICA.edf...\n",
      "EDF file detected\n",
      "Setting channel info structure...\n",
      "Creating raw.info structure...\n"
     ]
    },
    {
     "name": "stderr",
     "output_type": "stream",
     "text": [
      "<ipython-input-41-6b55a1d07d86>:1: RuntimeWarning: 29 channel names are too long, have been truncated to 15 characters:\n",
      "['EEG Chan 100-CAR', 'EEG Chan 101-CAR', 'EEG Chan 102-CAR', 'EEG Chan 103-CAR', 'EEG Chan 104-CAR', 'EEG Chan 105-CAR', 'EEG Chan 106-CAR', 'EEG Chan 107-CAR', 'EEG Chan 108-CAR', 'EEG Chan 109-CAR', 'EEG Chan 110-CAR', 'EEG Chan 111-CAR', 'EEG Chan 112-CAR', 'EEG Chan 113-CAR', 'EEG Chan 114-CAR', 'EEG Chan 115-CAR', 'EEG Chan 116-CAR', 'EEG Chan 117-CAR', 'EEG Chan 118-CAR', 'EEG Chan 119-CAR', 'EEG Chan 120-CAR', 'EEG Chan 121-CAR', 'EEG Chan 122-CAR', 'EEG Chan 123-CAR', 'EEG Chan 124-CAR', 'EEG Chan 125-CAR', 'EEG Chan 126-CAR', 'EEG Chan 127-CAR', 'EEG Chan 128-CAR']\n",
      "  bb=mne.io.read_raw_edf('/Users/ilamiheev/Downloads/Domunyan_315_07_rr_f3.5-40_eyesClean_new_ICA.edf')\n"
     ]
    }
   ],
   "source": [
    "bb=mne.io.read_raw_edf('/Users/ilamiheev/Downloads/Domunyan_315_07_rr_f3.5-40_eyesClean_new_ICA.edf')"
   ]
  },
  {
   "cell_type": "code",
   "execution_count": 36,
   "metadata": {},
   "outputs": [],
   "source": [
    "s=mne.find_events(bb,stim_channel='Status', shortest_event=0)"
   ]
  },
  {
   "cell_type": "code",
   "execution_count": 37,
   "metadata": {},
   "outputs": [
    {
     "data": {
      "text/plain": [
       "array([], shape=(0, 3), dtype=int32)"
      ]
     },
     "execution_count": 37,
     "metadata": {},
     "output_type": "execute_result"
    }
   ],
   "source": [
    "s"
   ]
  },
  {
   "cell_type": "code",
   "execution_count": 35,
   "metadata": {},
   "outputs": [
    {
     "data": {
      "text/plain": [
       "['EEG Chan 1-CAR',\n",
       " 'EEG Chan 2-CAR',\n",
       " 'EEG Chan 3-CAR',\n",
       " 'EEG Chan 4-CAR',\n",
       " 'EEG Chan 5-CAR',\n",
       " 'EEG Chan 6-CAR',\n",
       " 'EEG Chan 7-CAR',\n",
       " 'EEG Chan 8-CAR',\n",
       " 'EEG Chan 9-CAR',\n",
       " 'EEG Chan 10-CAR',\n",
       " 'EEG Chan 11-CAR',\n",
       " 'EEG Chan 12-CAR',\n",
       " 'EEG Chan 13-CAR',\n",
       " 'EEG Chan 14-CAR',\n",
       " 'EEG Chan 15-CAR',\n",
       " 'EEG Chan 16-CAR',\n",
       " 'EEG Chan 17-CAR',\n",
       " 'EEG Chan 18-CAR',\n",
       " 'EEG Chan 19-CAR',\n",
       " 'EEG Chan 20-CAR',\n",
       " 'EEG Chan 21-CAR',\n",
       " 'EEG Chan 22-CAR',\n",
       " 'EEG Chan 23-CAR',\n",
       " 'EEG Chan 24-CAR',\n",
       " 'EEG Chan 25-CAR',\n",
       " 'EEG Chan 26-CAR',\n",
       " 'EEG Chan 27-CAR',\n",
       " 'EEG Chan 28-CAR',\n",
       " 'EEG Chan 29-CAR',\n",
       " 'EEG Chan 30-CAR',\n",
       " 'EEG Chan 31-CAR',\n",
       " 'EEG Chan 32-CAR',\n",
       " 'EEG Chan 33-CAR',\n",
       " 'EEG Chan 34-CAR',\n",
       " 'EEG Chan 35-CAR',\n",
       " 'EEG Chan 36-CAR',\n",
       " 'EEG Chan 37-CAR',\n",
       " 'EEG Chan 38-CAR',\n",
       " 'EEG Chan 39-CAR',\n",
       " 'EEG Chan 40-CAR',\n",
       " 'EEG Chan 41-CAR',\n",
       " 'EEG Chan 42-CAR',\n",
       " 'EEG Chan 43-CAR',\n",
       " 'EEG Chan 44-CAR',\n",
       " 'EEG Chan 45-CAR',\n",
       " 'EEG Chan 46-CAR',\n",
       " 'EEG Chan 47-CAR',\n",
       " 'EEG Chan 48-CAR',\n",
       " 'EEG Chan 49-CAR',\n",
       " 'EEG Chan 50-CAR',\n",
       " 'EEG Chan 51-CAR',\n",
       " 'EEG Chan 52-CAR',\n",
       " 'EEG Chan 53-CAR',\n",
       " 'EEG Chan 54-CAR',\n",
       " 'EEG Chan 55-CAR',\n",
       " 'EEG Chan 56-CAR',\n",
       " 'EEG Chan 57-CAR',\n",
       " 'EEG Chan 58-CAR',\n",
       " 'EEG Chan 59-CAR',\n",
       " 'EEG Chan 60-CAR',\n",
       " 'EEG Chan 61-CAR',\n",
       " 'EEG Chan 62-CAR',\n",
       " 'EEG Chan 63-CAR',\n",
       " 'EEG Chan 64-CAR',\n",
       " 'EEG Chan 65-CAR',\n",
       " 'EEG Chan 66-CAR',\n",
       " 'EEG Chan 67-CAR',\n",
       " 'EEG Chan 68-CAR',\n",
       " 'EEG Chan 69-CAR',\n",
       " 'EEG Chan 70-CAR',\n",
       " 'EEG Chan 71-CAR',\n",
       " 'EEG Chan 72-CAR',\n",
       " 'EEG Chan 73-CAR',\n",
       " 'EEG Chan 74-CAR',\n",
       " 'EEG Chan 75-CAR',\n",
       " 'EEG Chan 76-CAR',\n",
       " 'EEG Chan 77-CAR',\n",
       " 'EEG Chan 78-CAR',\n",
       " 'EEG Chan 79-CAR',\n",
       " 'EEG Chan 80-CAR',\n",
       " 'EEG Chan 81-CAR',\n",
       " 'EEG Chan 82-CAR',\n",
       " 'EEG Chan 83-CAR',\n",
       " 'EEG Chan 84-CAR',\n",
       " 'EEG Chan 85-CAR',\n",
       " 'EEG Chan 86-CAR',\n",
       " 'EEG Chan 87-CAR',\n",
       " 'EEG Chan 88-CAR',\n",
       " 'EEG Chan 89-CAR',\n",
       " 'EEG Chan 90-CAR',\n",
       " 'EEG Chan 91-CAR',\n",
       " 'EEG Chan 92-CAR',\n",
       " 'EEG Chan 93-CAR',\n",
       " 'EEG Chan 94-CAR',\n",
       " 'EEG Chan 95-CAR',\n",
       " 'EEG Chan 96-CAR',\n",
       " 'EEG Chan 97-CAR',\n",
       " 'EEG Chan 98-CAR',\n",
       " 'EEG Chan 99-CAR',\n",
       " 'EEG Chan 100-CA',\n",
       " 'EEG Chan 101-CA',\n",
       " 'EEG Chan 102-CA',\n",
       " 'EEG Chan 103-CA',\n",
       " 'EEG Chan 104-CA',\n",
       " 'EEG Chan 105-CA',\n",
       " 'EEG Chan 106-CA',\n",
       " 'EEG Chan 107-CA',\n",
       " 'EEG Chan 108-CA',\n",
       " 'EEG Chan 109-CA',\n",
       " 'EEG Chan 110-CA',\n",
       " 'EEG Chan 111-CA',\n",
       " 'EEG Chan 112-CA',\n",
       " 'EEG Chan 113-CA',\n",
       " 'EEG Chan 114-CA',\n",
       " 'EEG Chan 115-CA',\n",
       " 'EEG Chan 116-CA',\n",
       " 'EEG Chan 117-CA',\n",
       " 'EEG Chan 118-CA',\n",
       " 'EEG Chan 119-CA',\n",
       " 'EEG Chan 120-CA',\n",
       " 'EEG Chan 121-CA',\n",
       " 'EEG Chan 122-CA',\n",
       " 'EEG Chan 123-CA',\n",
       " 'EEG Chan 124-CA',\n",
       " 'EEG Chan 125-CA',\n",
       " 'EEG Chan 126-CA',\n",
       " 'EEG Chan 127-CA',\n",
       " 'EEG Chan 128-CA',\n",
       " 'Status']"
      ]
     },
     "execution_count": 35,
     "metadata": {},
     "output_type": "execute_result"
    }
   ],
   "source": [
    "bb.ch_names"
   ]
  },
  {
   "cell_type": "code",
   "execution_count": 40,
   "metadata": {},
   "outputs": [
    {
     "data": {
      "text/plain": [
       "<bound method BaseRaw.plot of <RawEDF  |  Domunyan_315_07_rr_f3.5-40_eyesClean_new_ICA.edf, n_channels x n_times : 129 x 220500 (441.0 sec), ~265 kB, data not loaded>>"
      ]
     },
     "execution_count": 40,
     "metadata": {},
     "output_type": "execute_result"
    }
   ],
   "source": [
    "bb.plot\n"
   ]
  },
  {
   "cell_type": "code",
   "execution_count": null,
   "metadata": {},
   "outputs": [],
   "source": []
  }
 ],
 "metadata": {
  "kernelspec": {
   "display_name": "Python 3",
   "language": "python",
   "name": "python3"
  },
  "language_info": {
   "codemirror_mode": {
    "name": "ipython",
    "version": 3
   },
   "file_extension": ".py",
   "mimetype": "text/x-python",
   "name": "python",
   "nbconvert_exporter": "python",
   "pygments_lexer": "ipython3",
   "version": "3.7.1"
  }
 },
 "nbformat": 4,
 "nbformat_minor": 2
}
