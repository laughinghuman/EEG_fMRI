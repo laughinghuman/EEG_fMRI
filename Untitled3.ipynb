{
 "cells": [
  {
   "cell_type": "code",
   "execution_count": 9,
   "metadata": {
    "scrolled": true
   },
   "outputs": [
    {
     "name": "stdout",
     "output_type": "stream",
     "text": [
      "Extracting EDF parameters from /Users/ilamiheev/Downloads/eeg_data/boys_7_9/7_9_3.edf...\n",
      "EDF file detected\n",
      "Setting channel info structure...\n",
      "Creating raw.info structure...\n",
      "Reading 0 ... 7499  =      0.000 ...    59.992 secs...\n"
     ]
    },
    {
     "data": {
      "text/plain": [
       "True"
      ]
     },
     "execution_count": 9,
     "metadata": {},
     "output_type": "execute_result"
    }
   ],
   "source": [
    "import mne\n",
    "import numpy as np\n",
    "from mne_extras import write_edf      \n",
    "dir='/Users/ilamiheev/Downloads/eeg_data/boys_7_9/7_9_3.edf'\n",
    "dir1='/Users/ilamiheev/Downloads/eeg_data/boys_7_9/7_9_3_new.edf'\n",
    "raw=mne.io.read_raw_edf(dir,preload=True)\n",
    "#eeg=data[:, mne.events_from_annotations(eeg)[0][0][0]:]\n",
    "#signal = eeg[..., start:end]\n",
    "write_edf(raw, dir1, tmin=0, tmax=60,\n",
    "         overwrite=True)\n"
   ]
  },
  {
   "cell_type": "code",
   "execution_count": 10,
   "metadata": {},
   "outputs": [
    {
     "name": "stdout",
     "output_type": "stream",
     "text": [
      "Extracting EDF parameters from /Users/ilamiheev/Downloads/eeg_data/boys_7_9/7_9_3_new.edf...\n",
      "EDF file detected\n",
      "Setting channel info structure...\n",
      "Creating raw.info structure...\n",
      "Reading 0 ... 7499  =      0.000 ...    59.992 secs...\n"
     ]
    }
   ],
   "source": [
    "raw=mne.io.read_raw_edf(dir1,preload=True)"
   ]
  },
  {
   "cell_type": "code",
   "execution_count": null,
   "metadata": {},
   "outputs": [],
   "source": []
  }
 ],
 "metadata": {
  "kernelspec": {
   "display_name": "Python 3",
   "language": "python",
   "name": "python3"
  },
  "language_info": {
   "codemirror_mode": {
    "name": "ipython",
    "version": 3
   },
   "file_extension": ".py",
   "mimetype": "text/x-python",
   "name": "python",
   "nbconvert_exporter": "python",
   "pygments_lexer": "ipython3",
   "version": "3.7.1"
  }
 },
 "nbformat": 4,
 "nbformat_minor": 2
}
