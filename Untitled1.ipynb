{
 "cells": [
  {
   "cell_type": "code",
   "execution_count": null,
   "metadata": {},
   "outputs": [],
   "source": [
    "eeg = mne.io.read_raw_brainvision('/Users/ilamiheev/Desktop/data/EEG/36/export/20130425360002_Pulse_Artifact_Correction_bin.vhdr',misc=['ECG'])\n",
    "data = np.delete(eeg.get_data(), [len(eeg.ch_names) - 1], 0)\n",
    "eeg=data[:, mne.events_from_annotations(eeg)[0][0][0]:]\n",
    "eeg_flip=np.fliplr(eeg)\n",
    "eegHandler = EEG_transform(nperseg=self.eeg_nperseg)\n",
    "start = start_time\n",
    "end = start + self.segment_length\n",
    "x_list = []\n",
    "y_list = []\n",
    "x_fl_list = []\n",
    "while end < eeg.shape[1] and end <= self.frame_creation_time * (fmri.shape[3]-1) and end < end_time:\n",
    "            signal = eeg[..., start:end]\n",
    "            signal_flip= eeg_flip[..., start:end]\n",
    "            x = eegHandler.transform(signal).reshape(-1)\n",
    "            y = fmriHandler.get_fmri(end, fmri)\n",
    "            x1 = eegHandler.transform(signal_flip).reshape(-1)\n",
    "            x_list.append(x)\n",
    "            y_list.append(y)\n",
    "            x_fl_list.append(x1)\n",
    "            start += self.step\n",
    "            end += self.step\n",
    "x_list=np.array(x_list)\n",
    "x_fl_list=np.array(x_fl_list)turn x_list, y_list, x_fl_list\n"
   ]
  }
 ],
 "metadata": {
  "kernelspec": {
   "display_name": "Python 3",
   "language": "python",
   "name": "python3"
  },
  "language_info": {
   "codemirror_mode": {
    "name": "ipython",
    "version": 3
   },
   "file_extension": ".py",
   "mimetype": "text/x-python",
   "name": "python",
   "nbconvert_exporter": "python",
   "pygments_lexer": "ipython3",
   "version": "3.7.1"
  }
 },
 "nbformat": 4,
 "nbformat_minor": 2
}
