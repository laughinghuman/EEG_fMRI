{
 "cells": [
  {
   "cell_type": "code",
   "execution_count": null,
   "metadata": {},
   "outputs": [
    {
     "name": "stdout",
     "output_type": "stream",
     "text": [
      "Extracting parameters from /Users/ilamiheev/Desktop/data/EEG/36/export/20130425360002_Pulse_Artifact_Correction_bin.vhdr...\n",
      "Setting channel info structure...\n",
      "Used Annotations descriptions: ['New Segment/', 'Pulse Artifact/R', 'SyncStatus/Sync On', 'Scanner/Scan Start', 'Scanner/Scanner Start', 'Scanner/s ']\n",
      "Extracting parameters from /Users/ilamiheev/Desktop/data/EEG/36/export/20130425360002_Pulse_Artifact_Correction_bin.vhdr...\n",
      "Setting channel info structure...\n",
      "Used Annotations descriptions: ['New Segment/', 'Pulse Artifact/R', 'SyncStatus/Sync On', 'Scanner/Scan Start', 'Scanner/Scanner Start', 'Scanner/s ']\n"
     ]
    },
    {
     "name": "stderr",
     "output_type": "stream",
     "text": [
      "/Users/ilamiheev/.local/lib/python3.7/site-packages/nilearn/_utils/cache_mixin.py:232: DeprecationWarning: The 'cachedir' attribute has been deprecated in version 0.12 and will be removed in version 0.14.\n",
      "Use os.path.join(memory.location, 'joblib') attribute instead.\n",
      "  if (memory.cachedir is None and memory_level is not None\n",
      "/Users/ilamiheev/.local/lib/python3.7/site-packages/nilearn/_utils/cache_mixin.py:232: DeprecationWarning: The 'cachedir' attribute has been deprecated in version 0.12 and will be removed in version 0.14.\n",
      "Use os.path.join(memory.location, 'joblib') attribute instead.\n",
      "  if (memory.cachedir is None and memory_level is not None\n"
     ]
    }
   ],
   "source": [
    "%matplotlib inline\n",
    "from important import main\n",
    "import numpy as np\n",
    "from matplotlib import pyplot as plt\n",
    "ko=main()\n",
    "plt.legend()\n",
    "plt.show()\n"
   ]
  },
  {
   "cell_type": "code",
   "execution_count": null,
   "metadata": {},
   "outputs": [],
   "source": [
    "plt.plot(np.linspace(1,48,48), l,'ro', label='for')\n",
    "plt.plot(np.linspace(1,48,48), p,'bo',label='back')\n",
    "plt.show()"
   ]
  },
  {
   "cell_type": "code",
   "execution_count": null,
   "metadata": {},
   "outputs": [],
   "source": [
    "p=np.array(ko[5]).reshape(-1)\n",
    "l=np.array(ko[4]).reshape(-1)\n",
    "plt.plot(np.linspace(1,48,48), l,'ro', label='for')\n",
    "plt.plot(np.linspace(1,48,48), p,'bo',label='back')\n",
    "plt.show\n"
   ]
  },
  {
   "cell_type": "code",
   "execution_count": null,
   "metadata": {},
   "outputs": [],
   "source": [
    "p=np.array(ko[5]).reshape(-1)\n",
    "l=np.array(ko[4]).reshape(-1)\n",
    "plt.plot(np.linspace(1,48,48), l,'ro', label='for')\n",
    "plt.plot(np.linspace(1,48,48), p,'bo',label='back')\n",
    "plt.legend()\n",
    "plt.show()"
   ]
  },
  {
   "cell_type": "code",
   "execution_count": null,
   "metadata": {},
   "outputs": [],
   "source": [
    "p=np.array(ko[5]).reshape(-1)\n",
    "l=np.array(ko[4]).reshape(-1)\n",
    "plt.plot(np.linspace(1,48,48), l,'ro', label='for')\n",
    "plt.plot(np.linspace(1,48,48), p,'bo',label='back')\n",
    "plt.legend()\n",
    "plt.show()"
   ]
  },
  {
   "cell_type": "code",
   "execution_count": null,
   "metadata": {},
   "outputs": [],
   "source": [
    "%matplotlib inline\n",
    "p=np.array(ko[5]).reshape(-1)\n",
    "l=np.array(ko[4]).reshape(-1)\n",
    "plt.plot(np.linspace(1,48,48), l,'ro', label='for')\n",
    "plt.plot(np.linspace(1,48,48), p,'bo',label='back')\n",
    "plt.show()"
   ]
  },
  {
   "cell_type": "code",
   "execution_count": null,
   "metadata": {},
   "outputs": [],
   "source": []
  },
  {
   "cell_type": "code",
   "execution_count": null,
   "metadata": {},
   "outputs": [],
   "source": []
  },
  {
   "cell_type": "code",
   "execution_count": null,
   "metadata": {},
   "outputs": [],
   "source": []
  },
  {
   "cell_type": "code",
   "execution_count": null,
   "metadata": {},
   "outputs": [],
   "source": []
  },
  {
   "cell_type": "code",
   "execution_count": null,
   "metadata": {},
   "outputs": [],
   "source": []
  }
 ],
 "metadata": {
  "kernelspec": {
   "display_name": "Python 3",
   "language": "python",
   "name": "python3"
  },
  "language_info": {
   "codemirror_mode": {
    "name": "ipython",
    "version": 3
   },
   "file_extension": ".py",
   "mimetype": "text/x-python",
   "name": "python",
   "nbconvert_exporter": "python",
   "pygments_lexer": "ipython3",
   "version": "3.7.1"
  }
 },
 "nbformat": 4,
 "nbformat_minor": 2
}
